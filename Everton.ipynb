{
  "nbformat": 4,
  "nbformat_minor": 0,
  "metadata": {
    "colab": {
      "name": "Everton",
      "provenance": [],
      "authorship_tag": "ABX9TyMvRaudDUFzXsZPR1MOmFho",
      "include_colab_link": true
    },
    "kernelspec": {
      "name": "ir",
      "display_name": "R"
    }
  },
  "cells": [
    {
      "cell_type": "markdown",
      "metadata": {
        "id": "view-in-github",
        "colab_type": "text"
      },
      "source": [
        "<a href=\"https://colab.research.google.com/github/Eduarmma19/videos_youtube/blob/main/Everton.ipynb\" target=\"_parent\"><img src=\"https://colab.research.google.com/assets/colab-badge.svg\" alt=\"Open In Colab\"/></a>"
      ]
    },
    {
      "cell_type": "markdown",
      "metadata": {
        "id": "0JI0TQ-eXP8e"
      },
      "source": [
        "# DATOS JUGADORES DEL EVERTON\r\n",
        "![descarga (2).png](data:image/png;base64,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)"
      ]
    },
    {
      "cell_type": "markdown",
      "metadata": {
        "id": "sqhvbke2Br1G"
      },
      "source": [
        "## Librerías a usar "
      ]
    },
    {
      "cell_type": "code",
      "metadata": {
        "id": "HTKO8YZapi90",
        "colab": {
          "base_uri": "https://localhost:8080/"
        },
        "outputId": "820e65ee-cb04-4b48-eaee-e8ea0e0f4392"
      },
      "source": [
        "install.packages(\"ggthemes\")\r\n",
        "library(ggthemes)"
      ],
      "execution_count": null,
      "outputs": [
        {
          "output_type": "stream",
          "text": [
            "Installing package into ‘/usr/local/lib/R/site-library’\n",
            "(as ‘lib’ is unspecified)\n",
            "\n",
            "Installing package into ‘/usr/local/lib/R/site-library’\n",
            "(as ‘lib’ is unspecified)\n",
            "\n"
          ],
          "name": "stderr"
        }
      ]
    },
    {
      "cell_type": "code",
      "metadata": {
        "id": "-f7GeSzoWh0n"
      },
      "source": [
        "library(rvest)\r\n",
        "library(dplyr)\r\n",
        "library(tidyverse)\r\n",
        "url <- \"https://www.premierleague.com/clubs/7/Everton/squad\"\r\n",
        "pagina_everton <- read_html(url)"
      ],
      "execution_count": null,
      "outputs": []
    },
    {
      "cell_type": "code",
      "metadata": {
        "id": "VSGN3EYJazWx"
      },
      "source": [
        "nombres <- pagina_everton %>% html_nodes(\".name\")%>%html_text()\r\n",
        "nombres <- nombres[21:47]\r\n",
        "nacionalidad <- pagina_everton %>% html_nodes(\".nationality .info\") %>% html_text()\r\n",
        "apariciones <- pagina_everton %>% html_nodes(\".nationality+ li .info\") %>% html_text()\r\n",
        "posicion <- pagina_everton %>% html_nodes(\".position\")%>% html_text()"
      ],
      "execution_count": null,
      "outputs": []
    },
    {
      "cell_type": "code",
      "metadata": {
        "id": "8bH5R6F9desU"
      },
      "source": [
        "df <- data.frame(nombres,nacionalidad,apariciones,posicion)\r\n",
        "df$apariciones <- as.numeric(df$apariciones)\r\n",
        "df$nombres <- as.character(df$nombres)"
      ],
      "execution_count": null,
      "outputs": []
    },
    {
      "cell_type": "code",
      "metadata": {
        "id": "R0FnEPiQPul2"
      },
      "source": [
        "besic <- which(df$nombres == \"Muhamed Besic\")\r\n",
        "gbamin <- which(df$nombres == \"Jean-Philippe Gbamin\")\r\n",
        "\r\n",
        "df[besic,\"nacionalidad\"] <- \"Bosnia\"\r\n",
        "df[gbamin,\"nacionalidad\"] <- \"Ivory Coast\""
      ],
      "execution_count": null,
      "outputs": []
    },
    {
      "cell_type": "code",
      "metadata": {
        "colab": {
          "base_uri": "https://localhost:8080/",
          "height": 857
        },
        "id": "HWEN5vmFoRJr",
        "outputId": "3780f485-cc34-498c-8d22-895e98a6d612"
      },
      "source": [
        "p <- df %>% filter(apariciones >1)  %>%mutate(nombres = reorder(nombres,apariciones)) %>% ggplot()+ \r\n",
        "  aes(x = nombres, y = apariciones) + geom_bar(stat = \"identity\", fill = \"deepskyblue3\") + coord_flip() + theme_fivethirtyeight()+\r\n",
        "  geom_text(aes(label = apariciones),hjust = -0.2) +\r\n",
        "   labs(title = \"¿Cuales son los jugadores con \\n más presencias?\",subtitle = \"Temporada 2020/21\",caption = \"Fuente: Premier League\") + \r\n",
        "   theme(panel.grid.major = element_blank(),axis.text.x = element_blank())\r\n",
        "\r\n",
        "q <- df%>%group_by(nacionalidad)%>%summarise(cuenta = n())%>% ggplot()+aes(x = reorder(nacionalidad,cuenta),y = cuenta) + \r\n",
        "geom_bar(stat = \"identity\",fill = \"deepskyblue3\") + coord_flip() + theme_fivethirtyeight()+\r\n",
        "  geom_text(aes(label = cuenta),hjust = -0.2) +\r\n",
        "   labs(title = \"¿Nacionalidades ?\",subtitle = \"Temporada 2020/21\",caption = \"Fuente: Premier League\") + \r\n",
        "   theme(panel.grid.major = element_blank(),axis.text.x = element_blank())\r\n",
        "\r\n",
        "p\r\n",
        "q\r\n"
      ],
      "execution_count": null,
      "outputs": [
        {
          "output_type": "display_data",
          "data": {
            "image/png": "[encoded data removed]",
            "text/plain": [
              "plot without title"
            ]
          },
          "metadata": {
            "tags": [],
            "image/png": {
              "width": 420,
              "height": 420
            }
          }
        },
        {
          "output_type": "display_data",
          "data": {
            "image/png": "[encoded data removed]",
            "text/plain": [
              "plot without title"
            ]
          },
          "metadata": {
            "tags": [],
            "image/png": {
              "width": 420,
              "height": 420
            }
          }
        }
      ]
    },
    {
      "cell_type": "code",
      "metadata": {
        "id": "g4AAH3VsvQVQ"
      },
      "source": [
        "#Sacamos a los arqueros y nos quedamos con los defensas en adelante\r\n",
        "df_jugadores <- df %>% filter(posicion != \"Goalkeeper\")\r\n",
        "links_jugador <- pagina_everton %>% html_nodes(\"div.wrapper.col-12 > div > ul > li:nth-child(5) > a\") %>% html_attr(\"href\")"
      ],
      "execution_count": null,
      "outputs": []
    },
    {
      "cell_type": "code",
      "metadata": {
        "id": "sVvI5D70wT8a"
      },
      "source": [
        "# Links de los jugadores \r\n",
        "links_jugadores <- c()\r\n",
        "jugadores <- c()\r\n",
        "for (n_jugador in seq(from = 27,to = 5,by = -1)){\r\n",
        "  x <- paste0(\"#mainContent > div.wrapper.col-12 > div > ul > li:nth-child(\",n_jugador,\") > a\")\r\n",
        "  links_jugadores <- c(links_jugadores,x)\r\n",
        "\r\n",
        "  jugadores <- c(pagina_everton %>%html_nodes(x)%>% html_attr(\"href\"),jugadores)\r\n",
        "}\r\n"
      ],
      "execution_count": null,
      "outputs": []
    },
    {
      "cell_type": "code",
      "metadata": {
        "id": "kmi6KtRK4HLY"
      },
      "source": [
        "links_completo <- paste0(\"https://www.premierleague.com\",str_replace(jugadores,\"overview\",\"stats\"))\r\n"
      ],
      "execution_count": null,
      "outputs": []
    },
    {
      "cell_type": "code",
      "metadata": {
        "id": "IyKpVwZOhxQI"
      },
      "source": [
        "estadisticas <- data.frame()\r\n",
        "obtener_estadisticas <- function(links){\r\n",
        "  pagina_estadistica <- read_html(links)\r\n",
        "  wins<- pagina_estadistica %>% html_nodes(\"#mainContent > div.wrapper.hasFixedSidebar > div > div > div.playerInfo > div > div > div > div:nth-child(3) > span > span\") %>% html_text()\r\n",
        "  loses <- pagina_estadistica %>% html_nodes(\"#mainContent > div.wrapper.hasFixedSidebar > div > div > div.playerInfo > div > div > div > div:nth-child(4) > span > span\") %>% html_text()\r\n",
        " \r\n",
        "  estadisticas <- rbind(estadisticas,data.frame(wins,loses))\r\n",
        "  estadisticas\r\n",
        "}"
      ],
      "execution_count": null,
      "outputs": []
    },
    {
      "cell_type": "code",
      "metadata": {
        "id": "1LYdj8GejE2a"
      },
      "source": [
        "df_estadisticas <- sapply(links_completo,obtener_estadisticas,USE.NAMES = FALSE)\r\n"
      ],
      "execution_count": null,
      "outputs": []
    },
    {
      "cell_type": "code",
      "metadata": {
        "id": "qDpNTK3FjaYy"
      },
      "source": [
        "df_estadisticas <- t(df_estadisticas)\r\n",
        "df_estadisticas <- as.data.frame(df_estadisticas)"
      ],
      "execution_count": null,
      "outputs": []
    },
    {
      "cell_type": "code",
      "metadata": {
        "colab": {
          "base_uri": "https://localhost:8080/",
          "height": 810
        },
        "id": "XcP5gM_flhep",
        "outputId": "64a38627-c2b9-499f-bcd6-d0b4f405f943"
      },
      "source": [
        "df_final <- cbind(df_jugadores[,-3],df_estadisticas)\r\n",
        "df_final"
      ],
      "execution_count": null,
      "outputs": [
        {
          "output_type": "display_data",
          "data": {
            "text/plain": [
              "   nombres              \n",
              "1  Mason Holgate        \n",
              "2  Michael Keane        \n",
              "3  Lucas Digne          \n",
              "4  Yerry Mina           \n",
              "5  Séamus Coleman       \n",
              "6  Niels Nkounkou       \n",
              "7  Ben Godfrey          \n",
              "8  Thierry Small        \n",
              "9  Fabian Delph         \n",
              "10 Gylfi Sigurdsson     \n",
              "11 André Gomes          \n",
              "12 Jean-Philippe Gbamin \n",
              "13 Tom Davies           \n",
              "14 Allan                \n",
              "15 James Rodríguez      \n",
              "16 Abdoulaye Doucouré   \n",
              "17 Tyler Onyango        \n",
              "18 Muhamed Besic        \n",
              "19 Richarlison          \n",
              "20 Dominic Calvert-Lewin\n",
              "21 Alex Iwobi           \n",
              "22 Bernard              \n",
              "23 Joshua King          \n",
              "   nacionalidad                                                                  \n",
              "1  \\n                      \\n                      England\\n                     \n",
              "2  \\n                      \\n                      England\\n                     \n",
              "3  \\n                      \\n                      France\\n                      \n",
              "4  \\n                      \\n                      Colombia\\n                    \n",
              "5  \\n                      \\n                      Ireland\\n                     \n",
              "6  \\n                      \\n                      France\\n                      \n",
              "7  \\n                      \\n                      England\\n                     \n",
              "8  \\n                      \\n                      England\\n                     \n",
              "9  \\n                      \\n                      England\\n                     \n",
              "10 \\n                      \\n                      Iceland\\n                     \n",
              "11 \\n                      \\n                      Portugal\\n                    \n",
              "12 Ivory Coast                                                                   \n",
              "13 \\n                      \\n                      England\\n                     \n",
              "14 \\n                      \\n                      Brazil\\n                      \n",
              "15 \\n                      \\n                      Colombia\\n                    \n",
              "16 \\n                      \\n                      France\\n                      \n",
              "17 \\n                      \\n                      England\\n                     \n",
              "18 Bosnia                                                                        \n",
              "19 \\n                      \\n                      Brazil\\n                      \n",
              "20 \\n                      \\n                      England\\n                     \n",
              "21 \\n                      \\n                      Nigeria\\n                     \n",
              "22 \\n                      \\n                      Brazil\\n                      \n",
              "23 \\n                      \\n                      Norway\\n                      \n",
              "   posicion   wins            loses          \n",
              "1  Defender   \\n      35\\n    \\n      21\\n   \n",
              "2  Defender   \\n      63\\n    \\n      71\\n   \n",
              "3  Defender   \\n      34\\n    \\n      32\\n   \n",
              "4  Defender   \\n      26\\n    \\n      21\\n   \n",
              "5  Defender   \\n      120\\n   \\n      84\\n   \n",
              "6  Defender   \\n      0\\n     \\n      1\\n    \n",
              "7  Defender   \\n      13\\n    \\n      27\\n   \n",
              "8  Defender   \\n      0\\n     \\n      0\\n    \n",
              "9  Midfielder \\n      77\\n    \\n      76\\n   \n",
              "10 Midfielder \\n      124\\n   \\n      117\\n  \n",
              "11 Midfielder \\n      25\\n    \\n      24\\n   \n",
              "12 Midfielder \\n      1\\n     \\n      0\\n    \n",
              "13 Midfielder \\n      55\\n    \\n      38\\n   \n",
              "14 Midfielder \\n      6\\n     \\n      4\\n    \n",
              "15 Midfielder \\n      7\\n     \\n      7\\n    \n",
              "16 Midfielder \\n      50\\n    \\n      73\\n   \n",
              "17 Midfielder \\n      0\\n     \\n      0\\n    \n",
              "18 Midfielder \\n      14\\n    \\n      17\\n   \n",
              "19 Forward    \\n      50\\n    \\n      52\\n   \n",
              "20 Forward    \\n      52\\n    \\n      52\\n   \n",
              "21 Forward    \\n      69\\n    \\n      47\\n   \n",
              "22 Forward    \\n      24\\n    \\n      29\\n   \n",
              "23 Forward    \\n      47\\n    \\n      79\\n   "
            ],
            "text/latex": "A data.frame: 23 × 5\n\\begin{tabular}{lllll}\n nombres & nacionalidad & posicion & wins & loses\\\\\n <chr> & <chr> & <chr> & <list> & <list>\\\\\n\\hline\n\t Mason Holgate         & \n                      \n                      England\n                      & Defender   & \n      35\n   & \n      21\n  \\\\\n\t Michael Keane         & \n                      \n                      England\n                      & Defender   & \n      63\n   & \n      71\n  \\\\\n\t Lucas Digne           & \n                      \n                      France\n                       & Defender   & \n      34\n   & \n      32\n  \\\\\n\t Yerry Mina            & \n                      \n                      Colombia\n                     & Defender   & \n      26\n   & \n      21\n  \\\\\n\t Séamus Coleman        & \n                      \n                      Ireland\n                      & Defender   & \n      120\n   & \n      84\n  \\\\\n\t Niels Nkounkou        & \n                      \n                      France\n                       & Defender   & \n      0\n   & \n      1\n  \\\\\n\t Ben Godfrey           & \n                      \n                      England\n                      & Defender   & \n      13\n   & \n      27\n  \\\\\n\t Thierry Small         & \n                      \n                      England\n                      & Defender   & \n      0\n   & \n      0\n  \\\\\n\t Fabian Delph          & \n                      \n                      England\n                      & Midfielder & \n      77\n   & \n      76\n  \\\\\n\t Gylfi Sigurdsson      & \n                      \n                      Iceland\n                      & Midfielder & \n      124\n   & \n      117\n  \\\\\n\t André Gomes           & \n                      \n                      Portugal\n                     & Midfielder & \n      25\n   & \n      24\n  \\\\\n\t Jean-Philippe Gbamin  & Ivory Coast                                                                    & Midfielder & \n      1\n   & \n      0\n  \\\\\n\t Tom Davies            & \n                      \n                      England\n                      & Midfielder & \n      55\n   & \n      38\n  \\\\\n\t Allan                 & \n                      \n                      Brazil\n                       & Midfielder & \n      6\n   & \n      4\n  \\\\\n\t James Rodríguez       & \n                      \n                      Colombia\n                     & Midfielder & \n      7\n   & \n      7\n  \\\\\n\t Abdoulaye Doucouré    & \n                      \n                      France\n                       & Midfielder & \n      50\n   & \n      73\n  \\\\\n\t Tyler Onyango         & \n                      \n                      England\n                      & Midfielder & \n      0\n   & \n      0\n  \\\\\n\t Muhamed Besic         & Bosnia                                                                         & Midfielder & \n      14\n   & \n      17\n  \\\\\n\t Richarlison           & \n                      \n                      Brazil\n                       & Forward    & \n      50\n   & \n      52\n  \\\\\n\t Dominic Calvert-Lewin & \n                      \n                      England\n                      & Forward    & \n      52\n   & \n      52\n  \\\\\n\t Alex Iwobi            & \n                      \n                      Nigeria\n                      & Forward    & \n      69\n   & \n      47\n  \\\\\n\t Bernard               & \n                      \n                      Brazil\n                       & Forward    & \n      24\n   & \n      29\n  \\\\\n\t Joshua King           & \n                      \n                      Norway\n                       & Forward    & \n      47\n   & \n      79\n  \\\\\n\\end{tabular}\n",
            "text/markdown": "\nA data.frame: 23 × 5\n\n| nombres &lt;chr&gt; | nacionalidad &lt;chr&gt; | posicion &lt;chr&gt; | wins &lt;list&gt; | loses &lt;list&gt; |\n|---|---|---|---|---|\n| Mason Holgate         | \n                      \n                      England\n                      | Defender   | \n      35\n   | \n      21\n   |\n| Michael Keane         | \n                      \n                      England\n                      | Defender   | \n      63\n   | \n      71\n   |\n| Lucas Digne           | \n                      \n                      France\n                       | Defender   | \n      34\n   | \n      32\n   |\n| Yerry Mina            | \n                      \n                      Colombia\n                     | Defender   | \n      26\n   | \n      21\n   |\n| Séamus Coleman        | \n                      \n                      Ireland\n                      | Defender   | \n      120\n   | \n      84\n   |\n| Niels Nkounkou        | \n                      \n                      France\n                       | Defender   | \n      0\n   | \n      1\n   |\n| Ben Godfrey           | \n                      \n                      England\n                      | Defender   | \n      13\n   | \n      27\n   |\n| Thierry Small         | \n                      \n                      England\n                      | Defender   | \n      0\n   | \n      0\n   |\n| Fabian Delph          | \n                      \n                      England\n                      | Midfielder | \n      77\n   | \n      76\n   |\n| Gylfi Sigurdsson      | \n                      \n                      Iceland\n                      | Midfielder | \n      124\n   | \n      117\n   |\n| André Gomes           | \n                      \n                      Portugal\n                     | Midfielder | \n      25\n   | \n      24\n   |\n| Jean-Philippe Gbamin  | Ivory Coast                                                                    | Midfielder | \n      1\n   | \n      0\n   |\n| Tom Davies            | \n                      \n                      England\n                      | Midfielder | \n      55\n   | \n      38\n   |\n| Allan                 | \n                      \n                      Brazil\n                       | Midfielder | \n      6\n   | \n      4\n   |\n| James Rodríguez       | \n                      \n                      Colombia\n                     | Midfielder | \n      7\n   | \n      7\n   |\n| Abdoulaye Doucouré    | \n                      \n                      France\n                       | Midfielder | \n      50\n   | \n      73\n   |\n| Tyler Onyango         | \n                      \n                      England\n                      | Midfielder | \n      0\n   | \n      0\n   |\n| Muhamed Besic         | Bosnia                                                                         | Midfielder | \n      14\n   | \n      17\n   |\n| Richarlison           | \n                      \n                      Brazil\n                       | Forward    | \n      50\n   | \n      52\n   |\n| Dominic Calvert-Lewin | \n                      \n                      England\n                      | Forward    | \n      52\n   | \n      52\n   |\n| Alex Iwobi            | \n                      \n                      Nigeria\n                      | Forward    | \n      69\n   | \n      47\n   |\n| Bernard               | \n                      \n                      Brazil\n                       | Forward    | \n      24\n   | \n      29\n   |\n| Joshua King           | \n                      \n                      Norway\n                       | Forward    | \n      47\n   | \n      79\n   |\n\n",
            "text/html": [
              "<table class=\"dataframe\">\n",
              "<caption>A data.frame: 23 × 5</caption>\n",
              "<thead>\n",
              "\t<tr><th scope=col>nombres</th><th scope=col>nacionalidad</th><th scope=col>posicion</th><th scope=col>wins</th><th scope=col>loses</th></tr>\n",
              "\t<tr><th scope=col>&lt;chr&gt;</th><th scope=col>&lt;chr&gt;</th><th scope=col>&lt;chr&gt;</th><th scope=col>&lt;list&gt;</th><th scope=col>&lt;list&gt;</th></tr>\n",
              "</thead>\n",
              "<tbody>\n",
              "\t<tr><td>Mason Holgate        </td><td>\n",
              "                      \n",
              "                      England\n",
              "                     </td><td>Defender  </td><td>\n",
              "      35\n",
              "  </td><td>\n",
              "      21\n",
              "  </td></tr>\n",
              "\t<tr><td>Michael Keane        </td><td>\n",
              "                      \n",
              "                      England\n",
              "                     </td><td>Defender  </td><td>\n",
              "      63\n",
              "  </td><td>\n",
              "      71\n",
              "  </td></tr>\n",
              "\t<tr><td>Lucas Digne          </td><td>\n",
              "                      \n",
              "                      France\n",
              "                      </td><td>Defender  </td><td>\n",
              "      34\n",
              "  </td><td>\n",
              "      32\n",
              "  </td></tr>\n",
              "\t<tr><td>Yerry Mina           </td><td>\n",
              "                      \n",
              "                      Colombia\n",
              "                    </td><td>Defender  </td><td>\n",
              "      26\n",
              "  </td><td>\n",
              "      21\n",
              "  </td></tr>\n",
              "\t<tr><td>Séamus Coleman       </td><td>\n",
              "                      \n",
              "                      Ireland\n",
              "                     </td><td>Defender  </td><td>\n",
              "      120\n",
              "  </td><td>\n",
              "      84\n",
              "  </td></tr>\n",
              "\t<tr><td>Niels Nkounkou       </td><td>\n",
              "                      \n",
              "                      France\n",
              "                      </td><td>Defender  </td><td>\n",
              "      0\n",
              "  </td><td>\n",
              "      1\n",
              "  </td></tr>\n",
              "\t<tr><td>Ben Godfrey          </td><td>\n",
              "                      \n",
              "                      England\n",
              "                     </td><td>Defender  </td><td>\n",
              "      13\n",
              "  </td><td>\n",
              "      27\n",
              "  </td></tr>\n",
              "\t<tr><td>Thierry Small        </td><td>\n",
              "                      \n",
              "                      England\n",
              "                     </td><td>Defender  </td><td>\n",
              "      0\n",
              "  </td><td>\n",
              "      0\n",
              "  </td></tr>\n",
              "\t<tr><td>Fabian Delph         </td><td>\n",
              "                      \n",
              "                      England\n",
              "                     </td><td>Midfielder</td><td>\n",
              "      77\n",
              "  </td><td>\n",
              "      76\n",
              "  </td></tr>\n",
              "\t<tr><td>Gylfi Sigurdsson     </td><td>\n",
              "                      \n",
              "                      Iceland\n",
              "                     </td><td>Midfielder</td><td>\n",
              "      124\n",
              "  </td><td>\n",
              "      117\n",
              "  </td></tr>\n",
              "\t<tr><td>André Gomes          </td><td>\n",
              "                      \n",
              "                      Portugal\n",
              "                    </td><td>Midfielder</td><td>\n",
              "      25\n",
              "  </td><td>\n",
              "      24\n",
              "  </td></tr>\n",
              "\t<tr><td>Jean-Philippe Gbamin </td><td>Ivory Coast                                                                   </td><td>Midfielder</td><td>\n",
              "      1\n",
              "  </td><td>\n",
              "      0\n",
              "  </td></tr>\n",
              "\t<tr><td>Tom Davies           </td><td>\n",
              "                      \n",
              "                      England\n",
              "                     </td><td>Midfielder</td><td>\n",
              "      55\n",
              "  </td><td>\n",
              "      38\n",
              "  </td></tr>\n",
              "\t<tr><td>Allan                </td><td>\n",
              "                      \n",
              "                      Brazil\n",
              "                      </td><td>Midfielder</td><td>\n",
              "      6\n",
              "  </td><td>\n",
              "      4\n",
              "  </td></tr>\n",
              "\t<tr><td>James Rodríguez      </td><td>\n",
              "                      \n",
              "                      Colombia\n",
              "                    </td><td>Midfielder</td><td>\n",
              "      7\n",
              "  </td><td>\n",
              "      7\n",
              "  </td></tr>\n",
              "\t<tr><td>Abdoulaye Doucouré   </td><td>\n",
              "                      \n",
              "                      France\n",
              "                      </td><td>Midfielder</td><td>\n",
              "      50\n",
              "  </td><td>\n",
              "      73\n",
              "  </td></tr>\n",
              "\t<tr><td>Tyler Onyango        </td><td>\n",
              "                      \n",
              "                      England\n",
              "                     </td><td>Midfielder</td><td>\n",
              "      0\n",
              "  </td><td>\n",
              "      0\n",
              "  </td></tr>\n",
              "\t<tr><td>Muhamed Besic        </td><td>Bosnia                                                                        </td><td>Midfielder</td><td>\n",
              "      14\n",
              "  </td><td>\n",
              "      17\n",
              "  </td></tr>\n",
              "\t<tr><td>Richarlison          </td><td>\n",
              "                      \n",
              "                      Brazil\n",
              "                      </td><td>Forward   </td><td>\n",
              "      50\n",
              "  </td><td>\n",
              "      52\n",
              "  </td></tr>\n",
              "\t<tr><td>Dominic Calvert-Lewin</td><td>\n",
              "                      \n",
              "                      England\n",
              "                     </td><td>Forward   </td><td>\n",
              "      52\n",
              "  </td><td>\n",
              "      52\n",
              "  </td></tr>\n",
              "\t<tr><td>Alex Iwobi           </td><td>\n",
              "                      \n",
              "                      Nigeria\n",
              "                     </td><td>Forward   </td><td>\n",
              "      69\n",
              "  </td><td>\n",
              "      47\n",
              "  </td></tr>\n",
              "\t<tr><td>Bernard              </td><td>\n",
              "                      \n",
              "                      Brazil\n",
              "                      </td><td>Forward   </td><td>\n",
              "      24\n",
              "  </td><td>\n",
              "      29\n",
              "  </td></tr>\n",
              "\t<tr><td>Joshua King          </td><td>\n",
              "                      \n",
              "                      Norway\n",
              "                      </td><td>Forward   </td><td>\n",
              "      47\n",
              "  </td><td>\n",
              "      79\n",
              "  </td></tr>\n",
              "</tbody>\n",
              "</table>\n"
            ]
          },
          "metadata": {
            "tags": []
          }
        }
      ]
    }
  ]
}