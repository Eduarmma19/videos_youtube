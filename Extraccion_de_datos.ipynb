{
  "nbformat": 4,
  "nbformat_minor": 0,
  "metadata": {
    "colab": {
      "name": "Extraccion de datos",
      "provenance": [],
      "collapsed_sections": [],
      "authorship_tag": "ABX9TyO86gtGLApWCmbHz4l+FhhO",
      "include_colab_link": true
    },
    "kernelspec": {
      "name": "ir",
      "display_name": "R"
    }
  },
  "cells": [
    {
      "cell_type": "markdown",
      "metadata": {
        "id": "view-in-github",
        "colab_type": "text"
      },
      "source": [
        "<a href=\"https://colab.research.google.com/github/Eduarmma19/videos_youtube/blob/main/Extraccion_de_datos.ipynb\" target=\"_parent\"><img src=\"https://colab.research.google.com/assets/colab-badge.svg\" alt=\"Open In Colab\"/></a>"
      ]
    },
    {
      "cell_type": "code",
      "metadata": {
        "id": "tg76wGp6Rjz7"
      },
      "source": [
        "#Importación de librerías necesarias\r\n",
        "library(dplyr)\r\n",
        "library(rvest)"
      ],
      "execution_count": 65,
      "outputs": []
    },
    {
      "cell_type": "code",
      "metadata": {
        "id": "-ptzuOv9UBSq"
      },
      "source": [
        "#Url de la pagina \r\n",
        "url <- \"https://computacion.mercadolibre.com.co/accesorios-pc-gaming-audifonos/diadema-gamer\"\r\n",
        "pagina <- read_html(url)\r\n"
      ],
      "execution_count": 66,
      "outputs": []
    },
    {
      "cell_type": "code",
      "metadata": {
        "id": "Q1EjghwBCpsd"
      },
      "source": [
        "#Extraer el nombre de cada producto\r\n",
        "nombres <- pagina %>% html_nodes(\".ui-search-item__title\")%>% html_text()"
      ],
      "execution_count": 67,
      "outputs": []
    },
    {
      "cell_type": "code",
      "metadata": {
        "id": "LYLjdBm_DRTT"
      },
      "source": [
        "#Extraer el precio de cada producto\r\n",
        "precios <- pagina %>% html_nodes(\".ui-search-price--size-medium .ui-search-price__second-line .price-tag-fraction\") %>% html_text"
      ],
      "execution_count": 68,
      "outputs": []
    },
    {
      "cell_type": "code",
      "metadata": {
        "id": "kJL04vIxDfcZ"
      },
      "source": [
        "#Crear data frame con el nombre y precios de los productos\r\n",
        "df <- data.frame(nombres,precios)"
      ],
      "execution_count": 69,
      "outputs": []
    },
    {
      "cell_type": "code",
      "metadata": {
        "id": "_W_LqCxyJcFD",
        "colab": {
          "base_uri": "https://localhost:8080/",
          "height": 283
        },
        "outputId": "5df60d1c-6cdb-4a92-9c4b-0c1f1cc8be3d"
      },
      "source": [
        "#Mostrar los primeros registros del data frame (df)\r\n",
        "head(df)"
      ],
      "execution_count": 70,
      "outputs": [
        {
          "output_type": "display_data",
          "data": {
            "text/plain": [
              "  nombres                                                     precios\n",
              "1 Audifonos Diadema Gamer Usb Para Xboxone Ps4 Pc Luz Led     70.900 \n",
              "2 Diadema Gamer Auricular Con Microfono Ps4, Pc, Xbox, Swich  70.000 \n",
              "3 Audifono Diadema Cascos  Gamer Pro2 Para Ps4 Y Xbox One     70.000 \n",
              "4 Audifonos Diadema Gamer Kotion G2000 Con Microfono          58.800 \n",
              "5 Audifono Diadema Cascos Gamer Pro2 Para Ps4 Y Xbox One      70.000 \n",
              "6 Audifonos Gamer En Diadema Kotion G2000 Microfono Usb Y Led 59.900 "
            ],
            "text/latex": "A data.frame: 6 × 2\n\\begin{tabular}{r|ll}\n  & nombres & precios\\\\\n  & <chr> & <chr>\\\\\n\\hline\n\t1 & Audifonos Diadema Gamer Usb Para Xboxone Ps4 Pc Luz Led     & 70.900\\\\\n\t2 & Diadema Gamer Auricular Con Microfono Ps4, Pc, Xbox, Swich  & 70.000\\\\\n\t3 & Audifono Diadema Cascos  Gamer Pro2 Para Ps4 Y Xbox One     & 70.000\\\\\n\t4 & Audifonos Diadema Gamer Kotion G2000 Con Microfono          & 58.800\\\\\n\t5 & Audifono Diadema Cascos Gamer Pro2 Para Ps4 Y Xbox One      & 70.000\\\\\n\t6 & Audifonos Gamer En Diadema Kotion G2000 Microfono Usb Y Led & 59.900\\\\\n\\end{tabular}\n",
            "text/markdown": "\nA data.frame: 6 × 2\n\n| <!--/--> | nombres &lt;chr&gt; | precios &lt;chr&gt; |\n|---|---|---|\n| 1 | Audifonos Diadema Gamer Usb Para Xboxone Ps4 Pc Luz Led     | 70.900 |\n| 2 | Diadema Gamer Auricular Con Microfono Ps4, Pc, Xbox, Swich  | 70.000 |\n| 3 | Audifono Diadema Cascos  Gamer Pro2 Para Ps4 Y Xbox One     | 70.000 |\n| 4 | Audifonos Diadema Gamer Kotion G2000 Con Microfono          | 58.800 |\n| 5 | Audifono Diadema Cascos Gamer Pro2 Para Ps4 Y Xbox One      | 70.000 |\n| 6 | Audifonos Gamer En Diadema Kotion G2000 Microfono Usb Y Led | 59.900 |\n\n",
            "text/html": [
              "<table class=\"dataframe\">\n",
              "<caption>A data.frame: 6 × 2</caption>\n",
              "<thead>\n",
              "\t<tr><th></th><th scope=col>nombres</th><th scope=col>precios</th></tr>\n",
              "\t<tr><th></th><th scope=col>&lt;chr&gt;</th><th scope=col>&lt;chr&gt;</th></tr>\n",
              "</thead>\n",
              "<tbody>\n",
              "\t<tr><th scope=row>1</th><td>Audifonos Diadema Gamer Usb Para Xboxone Ps4 Pc Luz Led    </td><td>70.900</td></tr>\n",
              "\t<tr><th scope=row>2</th><td>Diadema Gamer Auricular Con Microfono Ps4, Pc, Xbox, Swich </td><td>70.000</td></tr>\n",
              "\t<tr><th scope=row>3</th><td>Audifono Diadema Cascos  Gamer Pro2 Para Ps4 Y Xbox One    </td><td>70.000</td></tr>\n",
              "\t<tr><th scope=row>4</th><td>Audifonos Diadema Gamer Kotion G2000 Con Microfono         </td><td>58.800</td></tr>\n",
              "\t<tr><th scope=row>5</th><td>Audifono Diadema Cascos Gamer Pro2 Para Ps4 Y Xbox One     </td><td>70.000</td></tr>\n",
              "\t<tr><th scope=row>6</th><td>Audifonos Gamer En Diadema Kotion G2000 Microfono Usb Y Led</td><td>59.900</td></tr>\n",
              "</tbody>\n",
              "</table>\n"
            ]
          },
          "metadata": {
            "tags": []
          }
        }
      ]
    },
    {
      "cell_type": "code",
      "metadata": {
        "id": "RCgqsfY-vMiM",
        "colab": {
          "base_uri": "https://localhost:8080/",
          "height": 34
        },
        "outputId": "43b7e367-5175-4759-96db-79224248e8b5"
      },
      "source": [
        "#Obtener los links que me llevan a cada producto de la primera pagina de busqueda (href)\r\n",
        "links_productos <- pagina %>% html_nodes(\".ui-search-result__image > a\") %>% html_attr(\"href\")\r\n",
        "length(links_productos)"
      ],
      "execution_count": 71,
      "outputs": [
        {
          "output_type": "display_data",
          "data": {
            "text/plain": [
              "[1] 56"
            ],
            "text/latex": "56",
            "text/markdown": "56",
            "text/html": [
              "56"
            ]
          },
          "metadata": {
            "tags": []
          }
        }
      ]
    },
    {
      "cell_type": "code",
      "metadata": {
        "id": "kUsHt4syvXaM"
      },
      "source": [
        "#Crear función que permite ingresar a cada producto y tomar las ventas durante los últimos 60 días y la atención brindada por el proveedor \r\n",
        "#Como salida tendremos un data frame con la variable ventas y atención. \r\n",
        "\r\n",
        "obtener_info <- function(link){\r\n",
        "  pagina_producto <- read_html(link)\r\n",
        "  ventas <- pagina_producto %>%html_nodes(\".ui-pdp-seller__sales-description\")  %>% html_text()\r\n",
        "  atencion <- pagina_producto %>% html_nodes(\".ui-pdp-seller__item-description:nth-child(2) .ui-pdp-seller__text-description\")%>% html_text()\r\n",
        "  df <- data.frame(ventas,atencion)\r\n",
        "  df   \r\n",
        "  }"
      ],
      "execution_count": 72,
      "outputs": []
    },
    {
      "cell_type": "code",
      "metadata": {
        "id": "HHWjD-WpEden"
      },
      "source": [
        "#Aplicación de la función creada a cada uno de los links que nos lleva a los productos\r\n",
        "df_total <- sapply(links_productos,obtener_info,USE.NAMES = FALSE)\r\n"
      ],
      "execution_count": 73,
      "outputs": []
    },
    {
      "cell_type": "code",
      "metadata": {
        "colab": {
          "base_uri": "https://localhost:8080/",
          "height": 150
        },
        "id": "OowwuHnoDtHM",
        "outputId": "ca7fa05e-26f0-4f24-9d7f-b77eb1f9ae62"
      },
      "source": [
        "head(df_total)"
      ],
      "execution_count": null,
      "outputs": [
        {
          "output_type": "display_data",
          "data": {
            "text/plain": [
              "         [,1]                  [,2]                  [,3]                 \n",
              "ventas   658                   10772                 10772                \n",
              "atencion Brinda buena atención Brinda buena atención Brinda buena atención\n",
              "         [,4]                  [,5]                  [,6]                 \n",
              "ventas   3970                  9710                  1820                 \n",
              "atencion Brinda buena atención Brinda buena atención Brinda buena atención\n",
              "         [,7]                  [,8]                  [,9]                 \n",
              "ventas   10560                 99                    129                  \n",
              "atencion Brinda buena atención Brinda buena atención Brinda buena atención\n",
              "         [,10]                 [,11] [,12]                \n",
              "ventas   9710                  ⋯     610                  \n",
              "atencion Brinda buena atención ⋯     Brinda buena atención\n",
              "         [,13]                 [,14]                 [,15]                \n",
              "ventas   2873                  3194                  1820                 \n",
              "atencion Brinda buena atención Brinda buena atención Brinda buena atención\n",
              "         [,16]                 [,17]                 [,18]                \n",
              "ventas   2264                  851                   2873                 \n",
              "atencion Brinda buena atención Brinda buena atención Brinda buena atención\n",
              "         [,19]                 [,20]                 [,21]                \n",
              "ventas   1363                  7319                  3970                 \n",
              "atencion Brinda buena atención Brinda buena atención Brinda buena atención"
            ],
            "text/latex": "A matrix: 2 × 55\n\\begin{tabular}{r|lllllllllllllllllllll}\n\tventas & 658 & 10772 & 10772 & 3970 & 9710 & 1820 & 10560 & 99 & 129 & 9710 & ⋯ & 610 & 2873 & 3194 & 1820 & 2264 & 851 & 2873 & 1363 & 7319 & 3970\\\\\n\tatencion & Brinda buena atención & Brinda buena atención & Brinda buena atención & Brinda buena atención & Brinda buena atención & Brinda buena atención & Brinda buena atención & Brinda buena atención & Brinda buena atención & Brinda buena atención & ⋯ & Brinda buena atención & Brinda buena atención & Brinda buena atención & Brinda buena atención & Brinda buena atención & Brinda buena atención & Brinda buena atención & Brinda buena atención & Brinda buena atención & Brinda buena atención\\\\\n\\end{tabular}\n",
            "text/markdown": "\nA matrix: 2 × 55\n\n| ventas | 658 | 10772 | 10772 | 3970 | 9710 | 1820 | 10560 | 99 | 129 | 9710 | ⋯ | 610 | 2873 | 3194 | 1820 | 2264 | 851 | 2873 | 1363 | 7319 | 3970 |\n| atencion | Brinda buena atención | Brinda buena atención | Brinda buena atención | Brinda buena atención | Brinda buena atención | Brinda buena atención | Brinda buena atención | Brinda buena atención | Brinda buena atención | Brinda buena atención | ⋯ | Brinda buena atención | Brinda buena atención | Brinda buena atención | Brinda buena atención | Brinda buena atención | Brinda buena atención | Brinda buena atención | Brinda buena atención | Brinda buena atención | Brinda buena atención |\n\n",
            "text/html": [
              "<table class=\"dataframe\">\n",
              "<caption>A matrix: 2 × 55</caption>\n",
              "<tbody>\n",
              "\t<tr><th scope=row>ventas</th><td>658</td><td>10772</td><td>10772</td><td>3970</td><td>9710</td><td>1820</td><td>10560</td><td>99</td><td>129</td><td>9710</td><td>⋯</td><td>610</td><td>2873</td><td>3194</td><td>1820</td><td>2264</td><td>851</td><td>2873</td><td>1363</td><td>7319</td><td>3970</td></tr>\n",
              "\t<tr><th scope=row>atencion</th><td>Brinda buena atención</td><td>Brinda buena atención</td><td>Brinda buena atención</td><td>Brinda buena atención</td><td>Brinda buena atención</td><td>Brinda buena atención</td><td>Brinda buena atención</td><td>Brinda buena atención</td><td>Brinda buena atención</td><td>Brinda buena atención</td><td>⋯</td><td>Brinda buena atención</td><td>Brinda buena atención</td><td>Brinda buena atención</td><td>Brinda buena atención</td><td>Brinda buena atención</td><td>Brinda buena atención</td><td>Brinda buena atención</td><td>Brinda buena atención</td><td>Brinda buena atención</td><td>Brinda buena atención</td></tr>\n",
              "</tbody>\n",
              "</table>\n"
            ]
          },
          "metadata": {
            "tags": []
          }
        }
      ]
    },
    {
      "cell_type": "code",
      "metadata": {
        "id": "iCByBBzLOEOs"
      },
      "source": [
        "#Transformaciones necesarias para el df_final \r\n",
        "df_total <- t(df_total)"
      ],
      "execution_count": 74,
      "outputs": []
    },
    {
      "cell_type": "code",
      "metadata": {
        "id": "6RS1-5AYFLHm"
      },
      "source": [
        "#Crear el data frame final (df_final )\r\n",
        "df_final <- cbind(df,df_total)"
      ],
      "execution_count": 75,
      "outputs": []
    },
    {
      "cell_type": "code",
      "metadata": {
        "colab": {
          "base_uri": "https://localhost:8080/",
          "height": 283
        },
        "id": "dt1jkOchP7u9",
        "outputId": "ec441ba9-5703-4121-d9d7-ce222418f498"
      },
      "source": [
        "head(df_final)"
      ],
      "execution_count": 76,
      "outputs": [
        {
          "output_type": "display_data",
          "data": {
            "text/plain": [
              "  nombres                                                     precios ventas\n",
              "1 Audifonos Diadema Gamer Usb Para Xboxone Ps4 Pc Luz Led     70.900  1921  \n",
              "2 Diadema Gamer Auricular Con Microfono Ps4, Pc, Xbox, Swich  70.000  403   \n",
              "3 Audifono Diadema Cascos  Gamer Pro2 Para Ps4 Y Xbox One     70.000  10600 \n",
              "4 Audifonos Diadema Gamer Kotion G2000 Con Microfono          58.800  10600 \n",
              "5 Audifono Diadema Cascos Gamer Pro2 Para Ps4 Y Xbox One      70.000  3924  \n",
              "6 Audifonos Gamer En Diadema Kotion G2000 Microfono Usb Y Led 59.900  9590  \n",
              "  atencion             \n",
              "1 Brinda buena atención\n",
              "2 Brinda buena atención\n",
              "3 Brinda buena atención\n",
              "4 Brinda buena atención\n",
              "5 Brinda buena atención\n",
              "6 Brinda buena atención"
            ],
            "text/latex": "A data.frame: 6 × 4\n\\begin{tabular}{r|llll}\n  & nombres & precios & ventas & atencion\\\\\n  & <chr> & <chr> & <list> & <list>\\\\\n\\hline\n\t1 & Audifonos Diadema Gamer Usb Para Xboxone Ps4 Pc Luz Led     & 70.900 & 1921 & Brinda buena atención\\\\\n\t2 & Diadema Gamer Auricular Con Microfono Ps4, Pc, Xbox, Swich  & 70.000 & 403 & Brinda buena atención\\\\\n\t3 & Audifono Diadema Cascos  Gamer Pro2 Para Ps4 Y Xbox One     & 70.000 & 10600 & Brinda buena atención\\\\\n\t4 & Audifonos Diadema Gamer Kotion G2000 Con Microfono          & 58.800 & 10600 & Brinda buena atención\\\\\n\t5 & Audifono Diadema Cascos Gamer Pro2 Para Ps4 Y Xbox One      & 70.000 & 3924 & Brinda buena atención\\\\\n\t6 & Audifonos Gamer En Diadema Kotion G2000 Microfono Usb Y Led & 59.900 & 9590 & Brinda buena atención\\\\\n\\end{tabular}\n",
            "text/markdown": "\nA data.frame: 6 × 4\n\n| <!--/--> | nombres &lt;chr&gt; | precios &lt;chr&gt; | ventas &lt;list&gt; | atencion &lt;list&gt; |\n|---|---|---|---|---|\n| 1 | Audifonos Diadema Gamer Usb Para Xboxone Ps4 Pc Luz Led     | 70.900 | 1921 | Brinda buena atención |\n| 2 | Diadema Gamer Auricular Con Microfono Ps4, Pc, Xbox, Swich  | 70.000 | 403 | Brinda buena atención |\n| 3 | Audifono Diadema Cascos  Gamer Pro2 Para Ps4 Y Xbox One     | 70.000 | 10600 | Brinda buena atención |\n| 4 | Audifonos Diadema Gamer Kotion G2000 Con Microfono          | 58.800 | 10600 | Brinda buena atención |\n| 5 | Audifono Diadema Cascos Gamer Pro2 Para Ps4 Y Xbox One      | 70.000 | 3924 | Brinda buena atención |\n| 6 | Audifonos Gamer En Diadema Kotion G2000 Microfono Usb Y Led | 59.900 | 9590 | Brinda buena atención |\n\n",
            "text/html": [
              "<table class=\"dataframe\">\n",
              "<caption>A data.frame: 6 × 4</caption>\n",
              "<thead>\n",
              "\t<tr><th></th><th scope=col>nombres</th><th scope=col>precios</th><th scope=col>ventas</th><th scope=col>atencion</th></tr>\n",
              "\t<tr><th></th><th scope=col>&lt;chr&gt;</th><th scope=col>&lt;chr&gt;</th><th scope=col>&lt;list&gt;</th><th scope=col>&lt;list&gt;</th></tr>\n",
              "</thead>\n",
              "<tbody>\n",
              "\t<tr><th scope=row>1</th><td>Audifonos Diadema Gamer Usb Para Xboxone Ps4 Pc Luz Led    </td><td>70.900</td><td>1921</td><td>Brinda buena atención</td></tr>\n",
              "\t<tr><th scope=row>2</th><td>Diadema Gamer Auricular Con Microfono Ps4, Pc, Xbox, Swich </td><td>70.000</td><td>403</td><td>Brinda buena atención</td></tr>\n",
              "\t<tr><th scope=row>3</th><td>Audifono Diadema Cascos  Gamer Pro2 Para Ps4 Y Xbox One    </td><td>70.000</td><td>10600</td><td>Brinda buena atención</td></tr>\n",
              "\t<tr><th scope=row>4</th><td>Audifonos Diadema Gamer Kotion G2000 Con Microfono         </td><td>58.800</td><td>10600</td><td>Brinda buena atención</td></tr>\n",
              "\t<tr><th scope=row>5</th><td>Audifono Diadema Cascos Gamer Pro2 Para Ps4 Y Xbox One     </td><td>70.000</td><td>3924</td><td>Brinda buena atención</td></tr>\n",
              "\t<tr><th scope=row>6</th><td>Audifonos Gamer En Diadema Kotion G2000 Microfono Usb Y Led</td><td>59.900</td><td>9590</td><td>Brinda buena atención</td></tr>\n",
              "</tbody>\n",
              "</table>\n"
            ]
          },
          "metadata": {
            "tags": []
          }
        }
      ]
    },
    {
      "cell_type": "code",
      "metadata": {
        "id": "MfNZl9gFP0Q3",
        "colab": {
          "base_uri": "https://localhost:8080/",
          "height": 34
        },
        "outputId": "173733d9-2429-4bf9-ec56-082fe56c39e8"
      },
      "source": [
        "#Tenemos los resultados de la primera página de busqueda, ahora vamos a extraer los datos de la 2da y 3ra página de busqueda\r\n",
        "#Que tienen en común los demás enlaces que corresponden a la 2da y 3ra página\r\n",
        "\r\n",
        "# https://computacion.mercadolibre.com.co/accesorios-pc-gaming-audifonos/diadema-gamer_Desde_51\r\n",
        "# https://computacion.mercadolibre.com.co/accesorios-pc-gaming-audifonos/diadema-gamer_Desde_101\r\n",
        "# https://computacion.mercadolibre.com.co/accesorios-pc-gaming-audifonos/diadema-gamer_Desde_151\r\n",
        "seq(from = 51,to = 151,by = 50)"
      ],
      "execution_count": 78,
      "outputs": [
        {
          "output_type": "display_data",
          "data": {
            "text/plain": [
              "[1]  51 101 151"
            ],
            "text/latex": "\\begin{enumerate*}\n\\item 51\n\\item 101\n\\item 151\n\\end{enumerate*}\n",
            "text/markdown": "1. 51\n2. 101\n3. 151\n\n\n",
            "text/html": [
              "<style>\n",
              ".list-inline {list-style: none; margin:0; padding: 0}\n",
              ".list-inline>li {display: inline-block}\n",
              ".list-inline>li:not(:last-child)::after {content: \"\\00b7\"; padding: 0 .5ex}\n",
              "</style>\n",
              "<ol class=list-inline><li>51</li><li>101</li><li>151</li></ol>\n"
            ]
          },
          "metadata": {
            "tags": []
          }
        }
      ]
    },
    {
      "cell_type": "code",
      "metadata": {
        "id": "bix-B5xUgDZ3"
      },
      "source": [
        "#Crear un data frame vacio \r\n",
        "df_paginas <- data.frame()"
      ],
      "execution_count": 79,
      "outputs": []
    },
    {
      "cell_type": "code",
      "metadata": {
        "id": "3GDs3RI0QI9x"
      },
      "source": [
        "#Extraer los datos de la 2da y 3ra página \r\n",
        "for(n_pagina in seq(from = 51,to = 151,by = 50)){\r\n",
        "  url_paginas <- paste0(\"https://computacion.mercadolibre.com.co/accesorios-pc-gaming-audifonos/diadema-gamer_Desde_\",n_pagina)\r\n",
        "  pagina_n <- read_html(url_paginas)\r\n",
        "\r\n",
        "  nombres <- pagina_n %>% html_nodes(\".ui-search-item__title\")%>% html_text()\r\n",
        "  precios <- pagina_n %>% html_nodes(\".ui-search-price--size-medium .ui-search-price__second-line .price-tag-fraction\") %>% html_text\r\n",
        "  links_productos <- pagina_n %>% html_nodes(\".ui-search-result__image > a\") %>% html_attr(\"href\")\r\n",
        "  df_n <- sapply(links_productos,obtener_info,USE.NAMES = FALSE)\r\n",
        "  df_n <- t(df_n)\r\n",
        "\r\n",
        "  df_n <- as.data.frame(df_n)\r\n",
        "\r\n",
        "  ventas <- unlist(df_n$ventas)\r\n",
        "  atencion <- unlist(df_n$atencion)\r\n",
        "\r\n",
        "  df_paginas <- rbind(df_paginas,data.frame(nombres,precios,ventas,atencion))\r\n",
        "}\r\n"
      ],
      "execution_count": 80,
      "outputs": []
    },
    {
      "cell_type": "code",
      "metadata": {
        "colab": {
          "base_uri": "https://localhost:8080/",
          "height": 1000
        },
        "id": "5J49w5TmkOhX",
        "outputId": "fdd2b9d9-48d1-4d8f-8dd3-c1ab755fb742"
      },
      "source": [
        "df_paginas"
      ],
      "execution_count": 82,
      "outputs": [
        {
          "output_type": "display_data",
          "data": {
            "text/plain": [
              "    nombres                                                      precios ventas\n",
              "1   Audifonos Gamer Diadema G9000 Kotion Ps4 Xboxone + Obsequio  60.900  2159  \n",
              "2   Logitech G Pro X, Diadema Gamer 7.1 Profesional, Pc Ps4 Xbox 649.900 10458 \n",
              "3   Diadema Audifono Gamer Rgb  Light Usb Microfono              49.900  5657  \n",
              "4   Diadema Arctis 5 Steelseries 7.1 Surround Rgb                399.000 528   \n",
              "5   Diadema Gamer Redragon H120 Ares 3.5 Mm                      53.900  411   \n",
              "6   Diadema Usb Micrófono Control Volumen, X-kim Hf-868u - Negro 59.900  130   \n",
              "7   Diadema Auricular / Headset Gamer Scylla H901 - Redragon     98.900  888   \n",
              "8   Diadema Gamer Hyperx Cloud Stinger Core 7.1 Inalambrica      319.000 3166  \n",
              "9   Diadema Usb Star Tec Hp-20u, Micrófono / Control De Volumen  62.900  12334 \n",
              "10  Audifonos Diadema Balaca Gamer Ps4 Xbox One Pc Luces Led     60.000  776   \n",
              "11  Diadema Gamer Auricular Con Microfono Ps4, Pc, Xbox, Swich   70.000  403   \n",
              "12  Diadema Gamer Logitech Pro X Usb Dts Blue Voice Original     479.000 3166  \n",
              "13  Diadema Gamer Con Luz Rgb Micrófono Sonido Envolvente 3d Neg 70.000  423   \n",
              "14  Diadema Usb Con Microfono Xkim Hf868 Con Control De Volumen  57.800  3166  \n",
              "15  Diadema Redragon Lamia H320 Usb 7.1 Rgb Incluye Soporte      184.000 3166  \n",
              "16  Diadema Redragron H120 Ares Gamer 3.5mm Estereo              57.000  3166  \n",
              "17  Diadema Usb Para Pc 2688 Con Micrófono                       44.900  1730  \n",
              "18  Audífonos Diadema Gamer Kotion G9000 Con Microfono + Obsequi 79.900  7422  \n",
              "19  Diadema Gamer Hyperx Cloudx Stinger Core Xbox One            144.700 851   \n",
              "20  Diadema Gamer Redragon Themis H220 Para Pc/movil/consolas    81.900  411   \n",
              "21  X Kim Hf-400 | Diadema Monoaural Con Microfono Usb           64.900  256   \n",
              "22  Diadema Usb X-kim Duo Auricular  Hf-868 Control Original     56.900  1076  \n",
              "23  Logitech G332, Diadema Gamer Estéreo Para Pc, Ps4, Xbox One  174.000 130   \n",
              "24  Audífonos Diadema Gamer Con Microfono K4 2 Auxiliares        39.900  10600 \n",
              "25  Diadema Gaming Steelseries Arctis 3 Black                    287.000 528   \n",
              "26  Diadema Redragon Gamer H120 Ares Headset                     53.900  2859  \n",
              "27  Diadema Redragon Gamer H320rgb Lamia Con Soporte             164.800 2859  \n",
              "28  Audifonos Gamer Diadema Microfono Usb Luces Led Gamming      58.000  4021  \n",
              "29  Diadema Alámbrica Gamer Gemini, Usb Y 3.5 Con Luz Rgb        128.900 198   \n",
              "30  Diadema Audifono Gamer Kotion Each G4000 Pro Gaming Headset  54.850  3924  \n",
              "⋮   ⋮                                                            ⋮       ⋮     \n",
              "121  Audifono Diadema Computador  Esense                         59.900  382   \n",
              "122 Audífonos Diadema Cascos Gamer  Pro  G4000 Con Microfono     54.900  6636  \n",
              "123 Audifonos Diadema Gamer Logitech G Pro X Gaming Profesional  475.000 481   \n",
              "124 Diadema Usb Para Pc Q2 Multimedia Sonido Hd                  58.900  1730  \n",
              "125 Diadema Gamer Headset Onikuma K20 Micrófono Ps4 Xbox Luz Led 89.900  1796  \n",
              "126 Audifono 21953 Diadema Gamer Trust Ziva 3.5 Mm               59.900  243   \n",
              "127 Diadema Usb Con Micrófono Y Control De Volumen X-kim Hf-400  46.500  1076  \n",
              "128 Audífono Diadema Para Pc Gamer Ps3 Ps4 Con Vibración Luz Led 99.000  1077  \n",
              "129 Diadema Alámbrica Shake Gamer Retroiluminada 7.1 Entrada Usb 139.900 198   \n",
              "130 Audifonos Diadema Trust Reno Pc/portátil 3.5mm C/volumen Cha 70.900  1244  \n",
              "131 Diadema Gamer Ud116                                          29.000  451   \n",
              "132 Diadema Gaming Hyperx Cloud Stinger Core 7.1                 225.000 130   \n",
              "133 Diadema Auriculares Estereo  Para Video Juegos Onikuma K8    99.900  1796  \n",
              "134 Diadema Gamer. Audifonos Balaca. Luces Led Auriculares. Mic  70.000  3385  \n",
              "135 Audifono Diadema Cascos Gamer Pro Serie 5 Para Ps4-xbox One  44.500  10600 \n",
              "136 Diadema Gamer Jbl Quantum 300 Microfono Desmontable Negro    240.000 2859  \n",
              "137 Diadema Gamer Redragon H120 Ares 3.5 Mm Pc Factura Legal     60.000  6672  \n",
              "138 Diadema Usb Multimedia Con Micrófono Ahp-4-0366              52.900  1730  \n",
              "139 Diadema Con Microfono Economica Tipo Nuca O Cuello Pc Laptop 15.911  23173 \n",
              "140 Diadema Usb                                                  120.000 69    \n",
              "141 Audífonos Diadema Gamer Kotion G4000 Con Microfono Usb Y Led 54.900  9591  \n",
              "142 Diadema Gamer Redragon H120 Ares 3.5 Mm Pc Garantia 1 Año    56.000  1009  \n",
              "143 Audífonos Diadema Gamer Havit H2232d Iluminación Rgb Negro   82.900  441   \n",
              "144 Diadema Gamer Logitech G635 Rgb 7.1 Pc Ps4 Xbox One Switch   399.900 71    \n",
              "145 Audífonos Diadema Con Micrófono Estereo  Para Pc Económico   9.500   842   \n",
              "146 Diadema Stereo H111 Logitech                                 49.000  1552  \n",
              "147 Diadema Star Tec 3.5 Mm Audifono Microfono St-hp-81          36.000  3166  \n",
              "148 Logitech G533, Diadema Gamer Inalámbrica / Sonido Dts 7.1    499.900 10458 \n",
              "149 Diadema Usb X-kim Duo Auricular  Hf-868 Control Original     53.700  91    \n",
              "150 Diadema Microsoft  Usb Lx-3000 Jug-00013 Factura Legal       132.900 6672  \n",
              "    atencion             \n",
              "1   Brinda buena atención\n",
              "2   Brinda buena atención\n",
              "3   Brinda buena atención\n",
              "4   Brinda buena atención\n",
              "5   Brinda buena atención\n",
              "6   Brinda buena atención\n",
              "7   Brinda buena atención\n",
              "8   Brinda buena atención\n",
              "9   Brinda buena atención\n",
              "10  Brinda buena atención\n",
              "11  Brinda buena atención\n",
              "12  Brinda buena atención\n",
              "13  Brinda buena atención\n",
              "14  Brinda buena atención\n",
              "15  Brinda buena atención\n",
              "16  Brinda buena atención\n",
              "17  Brinda buena atención\n",
              "18  Brinda buena atención\n",
              "19  Brinda buena atención\n",
              "20  Brinda buena atención\n",
              "21  Brinda buena atención\n",
              "22  Brinda buena atención\n",
              "23  Brinda buena atención\n",
              "24  Brinda buena atención\n",
              "25  Brinda buena atención\n",
              "26  Brinda buena atención\n",
              "27  Brinda buena atención\n",
              "28  Brinda buena atención\n",
              "29  Brinda buena atención\n",
              "30  Brinda buena atención\n",
              "⋮   ⋮                    \n",
              "121 Brinda buena atención\n",
              "122 Brinda buena atención\n",
              "123 Brinda buena atención\n",
              "124 Brinda buena atención\n",
              "125 Brinda buena atención\n",
              "126 Brinda buena atención\n",
              "127 Brinda buena atención\n",
              "128 Brinda buena atención\n",
              "129 Brinda buena atención\n",
              "130 Brinda buena atención\n",
              "131 Brinda buena atención\n",
              "132 Brinda buena atención\n",
              "133 Brinda buena atención\n",
              "134 Brinda buena atención\n",
              "135 Brinda buena atención\n",
              "136 Brinda buena atención\n",
              "137 Brinda buena atención\n",
              "138 Brinda buena atención\n",
              "139 Brinda buena atención\n",
              "140 Brinda buena atención\n",
              "141 Brinda buena atención\n",
              "142 Brinda buena atención\n",
              "143 Brinda buena atención\n",
              "144 Brinda buena atención\n",
              "145 Brinda buena atención\n",
              "146 Brinda buena atención\n",
              "147 Brinda buena atención\n",
              "148 Brinda buena atención\n",
              "149 Brinda buena atención\n",
              "150 Brinda buena atención"
            ],
            "text/latex": "A data.frame: 150 × 4\n\\begin{tabular}{llll}\n nombres & precios & ventas & atencion\\\\\n <chr> & <chr> & <chr> & <chr>\\\\\n\\hline\n\t Audifonos Gamer Diadema G9000 Kotion Ps4 Xboxone + Obsequio  & 60.900  & 2159  & Brinda buena atención\\\\\n\t Logitech G Pro X, Diadema Gamer 7.1 Profesional, Pc Ps4 Xbox & 649.900 & 10458 & Brinda buena atención\\\\\n\t Diadema Audifono Gamer Rgb  Light Usb Microfono              & 49.900  & 5657  & Brinda buena atención\\\\\n\t Diadema Arctis 5 Steelseries 7.1 Surround Rgb                & 399.000 & 528   & Brinda buena atención\\\\\n\t Diadema Gamer Redragon H120 Ares 3.5 Mm                      & 53.900  & 411   & Brinda buena atención\\\\\n\t Diadema Usb Micrófono Control Volumen, X-kim Hf-868u - Negro & 59.900  & 130   & Brinda buena atención\\\\\n\t Diadema Auricular / Headset Gamer Scylla H901 - Redragon     & 98.900  & 888   & Brinda buena atención\\\\\n\t Diadema Gamer Hyperx Cloud Stinger Core 7.1 Inalambrica      & 319.000 & 3166  & Brinda buena atención\\\\\n\t Diadema Usb Star Tec Hp-20u, Micrófono / Control De Volumen  & 62.900  & 12334 & Brinda buena atención\\\\\n\t Audifonos Diadema Balaca Gamer Ps4 Xbox One Pc Luces Led     & 60.000  & 776   & Brinda buena atención\\\\\n\t Diadema Gamer Auricular Con Microfono Ps4, Pc, Xbox, Swich   & 70.000  & 403   & Brinda buena atención\\\\\n\t Diadema Gamer Logitech Pro X Usb Dts Blue Voice Original     & 479.000 & 3166  & Brinda buena atención\\\\\n\t Diadema Gamer Con Luz Rgb Micrófono Sonido Envolvente 3d Neg & 70.000  & 423   & Brinda buena atención\\\\\n\t Diadema Usb Con Microfono Xkim Hf868 Con Control De Volumen  & 57.800  & 3166  & Brinda buena atención\\\\\n\t Diadema Redragon Lamia H320 Usb 7.1 Rgb Incluye Soporte      & 184.000 & 3166  & Brinda buena atención\\\\\n\t Diadema Redragron H120 Ares Gamer 3.5mm Estereo              & 57.000  & 3166  & Brinda buena atención\\\\\n\t Diadema Usb Para Pc 2688 Con Micrófono                       & 44.900  & 1730  & Brinda buena atención\\\\\n\t Audífonos Diadema Gamer Kotion G9000 Con Microfono + Obsequi & 79.900  & 7422  & Brinda buena atención\\\\\n\t Diadema Gamer Hyperx Cloudx Stinger Core Xbox One            & 144.700 & 851   & Brinda buena atención\\\\\n\t Diadema Gamer Redragon Themis H220 Para Pc/movil/consolas    & 81.900  & 411   & Brinda buena atención\\\\\n\t X Kim Hf-400 \\textbar{} Diadema Monoaural Con Microfono Usb           & 64.900  & 256   & Brinda buena atención\\\\\n\t Diadema Usb X-kim Duo Auricular  Hf-868 Control Original     & 56.900  & 1076  & Brinda buena atención\\\\\n\t Logitech G332, Diadema Gamer Estéreo Para Pc, Ps4, Xbox One  & 174.000 & 130   & Brinda buena atención\\\\\n\t Audífonos Diadema Gamer Con Microfono K4 2 Auxiliares        & 39.900  & 10600 & Brinda buena atención\\\\\n\t Diadema Gaming Steelseries Arctis 3 Black                    & 287.000 & 528   & Brinda buena atención\\\\\n\t Diadema Redragon Gamer H120 Ares Headset                     & 53.900  & 2859  & Brinda buena atención\\\\\n\t Diadema Redragon Gamer H320rgb Lamia Con Soporte             & 164.800 & 2859  & Brinda buena atención\\\\\n\t Audifonos Gamer Diadema Microfono Usb Luces Led Gamming      & 58.000  & 4021  & Brinda buena atención\\\\\n\t Diadema Alámbrica Gamer Gemini, Usb Y 3.5 Con Luz Rgb        & 128.900 & 198   & Brinda buena atención\\\\\n\t Diadema Audifono Gamer Kotion Each G4000 Pro Gaming Headset  & 54.850  & 3924  & Brinda buena atención\\\\\n\t ⋮ & ⋮ & ⋮ & ⋮\\\\\n\t  Audifono Diadema Computador  Esense                         & 59.900  & 382   & Brinda buena atención\\\\\n\t Audífonos Diadema Cascos Gamer  Pro  G4000 Con Microfono     & 54.900  & 6636  & Brinda buena atención\\\\\n\t Audifonos Diadema Gamer Logitech G Pro X Gaming Profesional  & 475.000 & 481   & Brinda buena atención\\\\\n\t Diadema Usb Para Pc Q2 Multimedia Sonido Hd                  & 58.900  & 1730  & Brinda buena atención\\\\\n\t Diadema Gamer Headset Onikuma K20 Micrófono Ps4 Xbox Luz Led & 89.900  & 1796  & Brinda buena atención\\\\\n\t Audifono 21953 Diadema Gamer Trust Ziva 3.5 Mm               & 59.900  & 243   & Brinda buena atención\\\\\n\t Diadema Usb Con Micrófono Y Control De Volumen X-kim Hf-400  & 46.500  & 1076  & Brinda buena atención\\\\\n\t Audífono Diadema Para Pc Gamer Ps3 Ps4 Con Vibración Luz Led & 99.000  & 1077  & Brinda buena atención\\\\\n\t Diadema Alámbrica Shake Gamer Retroiluminada 7.1 Entrada Usb & 139.900 & 198   & Brinda buena atención\\\\\n\t Audifonos Diadema Trust Reno Pc/portátil 3.5mm C/volumen Cha & 70.900  & 1244  & Brinda buena atención\\\\\n\t Diadema Gamer Ud116                                          & 29.000  & 451   & Brinda buena atención\\\\\n\t Diadema Gaming Hyperx Cloud Stinger Core 7.1                 & 225.000 & 130   & Brinda buena atención\\\\\n\t Diadema Auriculares Estereo  Para Video Juegos Onikuma K8    & 99.900  & 1796  & Brinda buena atención\\\\\n\t Diadema Gamer. Audifonos Balaca. Luces Led Auriculares. Mic  & 70.000  & 3385  & Brinda buena atención\\\\\n\t Audifono Diadema Cascos Gamer Pro Serie 5 Para Ps4-xbox One  & 44.500  & 10600 & Brinda buena atención\\\\\n\t Diadema Gamer Jbl Quantum 300 Microfono Desmontable Negro    & 240.000 & 2859  & Brinda buena atención\\\\\n\t Diadema Gamer Redragon H120 Ares 3.5 Mm Pc Factura Legal     & 60.000  & 6672  & Brinda buena atención\\\\\n\t Diadema Usb Multimedia Con Micrófono Ahp-4-0366              & 52.900  & 1730  & Brinda buena atención\\\\\n\t Diadema Con Microfono Economica Tipo Nuca O Cuello Pc Laptop & 15.911  & 23173 & Brinda buena atención\\\\\n\t Diadema Usb                                                  & 120.000 & 69    & Brinda buena atención\\\\\n\t Audífonos Diadema Gamer Kotion G4000 Con Microfono Usb Y Led & 54.900  & 9591  & Brinda buena atención\\\\\n\t Diadema Gamer Redragon H120 Ares 3.5 Mm Pc Garantia 1 Año    & 56.000  & 1009  & Brinda buena atención\\\\\n\t Audífonos Diadema Gamer Havit H2232d Iluminación Rgb Negro   & 82.900  & 441   & Brinda buena atención\\\\\n\t Diadema Gamer Logitech G635 Rgb 7.1 Pc Ps4 Xbox One Switch   & 399.900 & 71    & Brinda buena atención\\\\\n\t Audífonos Diadema Con Micrófono Estereo  Para Pc Económico   & 9.500   & 842   & Brinda buena atención\\\\\n\t Diadema Stereo H111 Logitech                                 & 49.000  & 1552  & Brinda buena atención\\\\\n\t Diadema Star Tec 3.5 Mm Audifono Microfono St-hp-81          & 36.000  & 3166  & Brinda buena atención\\\\\n\t Logitech G533, Diadema Gamer Inalámbrica / Sonido Dts 7.1    & 499.900 & 10458 & Brinda buena atención\\\\\n\t Diadema Usb X-kim Duo Auricular  Hf-868 Control Original     & 53.700  & 91    & Brinda buena atención\\\\\n\t Diadema Microsoft  Usb Lx-3000 Jug-00013 Factura Legal       & 132.900 & 6672  & Brinda buena atención\\\\\n\\end{tabular}\n",
            "text/markdown": "\nA data.frame: 150 × 4\n\n| nombres &lt;chr&gt; | precios &lt;chr&gt; | ventas &lt;chr&gt; | atencion &lt;chr&gt; |\n|---|---|---|---|\n| Audifonos Gamer Diadema G9000 Kotion Ps4 Xboxone + Obsequio  | 60.900  | 2159  | Brinda buena atención |\n| Logitech G Pro X, Diadema Gamer 7.1 Profesional, Pc Ps4 Xbox | 649.900 | 10458 | Brinda buena atención |\n| Diadema Audifono Gamer Rgb  Light Usb Microfono              | 49.900  | 5657  | Brinda buena atención |\n| Diadema Arctis 5 Steelseries 7.1 Surround Rgb                | 399.000 | 528   | Brinda buena atención |\n| Diadema Gamer Redragon H120 Ares 3.5 Mm                      | 53.900  | 411   | Brinda buena atención |\n| Diadema Usb Micrófono Control Volumen, X-kim Hf-868u - Negro | 59.900  | 130   | Brinda buena atención |\n| Diadema Auricular / Headset Gamer Scylla H901 - Redragon     | 98.900  | 888   | Brinda buena atención |\n| Diadema Gamer Hyperx Cloud Stinger Core 7.1 Inalambrica      | 319.000 | 3166  | Brinda buena atención |\n| Diadema Usb Star Tec Hp-20u, Micrófono / Control De Volumen  | 62.900  | 12334 | Brinda buena atención |\n| Audifonos Diadema Balaca Gamer Ps4 Xbox One Pc Luces Led     | 60.000  | 776   | Brinda buena atención |\n| Diadema Gamer Auricular Con Microfono Ps4, Pc, Xbox, Swich   | 70.000  | 403   | Brinda buena atención |\n| Diadema Gamer Logitech Pro X Usb Dts Blue Voice Original     | 479.000 | 3166  | Brinda buena atención |\n| Diadema Gamer Con Luz Rgb Micrófono Sonido Envolvente 3d Neg | 70.000  | 423   | Brinda buena atención |\n| Diadema Usb Con Microfono Xkim Hf868 Con Control De Volumen  | 57.800  | 3166  | Brinda buena atención |\n| Diadema Redragon Lamia H320 Usb 7.1 Rgb Incluye Soporte      | 184.000 | 3166  | Brinda buena atención |\n| Diadema Redragron H120 Ares Gamer 3.5mm Estereo              | 57.000  | 3166  | Brinda buena atención |\n| Diadema Usb Para Pc 2688 Con Micrófono                       | 44.900  | 1730  | Brinda buena atención |\n| Audífonos Diadema Gamer Kotion G9000 Con Microfono + Obsequi | 79.900  | 7422  | Brinda buena atención |\n| Diadema Gamer Hyperx Cloudx Stinger Core Xbox One            | 144.700 | 851   | Brinda buena atención |\n| Diadema Gamer Redragon Themis H220 Para Pc/movil/consolas    | 81.900  | 411   | Brinda buena atención |\n| X Kim Hf-400 | Diadema Monoaural Con Microfono Usb           | 64.900  | 256   | Brinda buena atención |\n| Diadema Usb X-kim Duo Auricular  Hf-868 Control Original     | 56.900  | 1076  | Brinda buena atención |\n| Logitech G332, Diadema Gamer Estéreo Para Pc, Ps4, Xbox One  | 174.000 | 130   | Brinda buena atención |\n| Audífonos Diadema Gamer Con Microfono K4 2 Auxiliares        | 39.900  | 10600 | Brinda buena atención |\n| Diadema Gaming Steelseries Arctis 3 Black                    | 287.000 | 528   | Brinda buena atención |\n| Diadema Redragon Gamer H120 Ares Headset                     | 53.900  | 2859  | Brinda buena atención |\n| Diadema Redragon Gamer H320rgb Lamia Con Soporte             | 164.800 | 2859  | Brinda buena atención |\n| Audifonos Gamer Diadema Microfono Usb Luces Led Gamming      | 58.000  | 4021  | Brinda buena atención |\n| Diadema Alámbrica Gamer Gemini, Usb Y 3.5 Con Luz Rgb        | 128.900 | 198   | Brinda buena atención |\n| Diadema Audifono Gamer Kotion Each G4000 Pro Gaming Headset  | 54.850  | 3924  | Brinda buena atención |\n| ⋮ | ⋮ | ⋮ | ⋮ |\n|  Audifono Diadema Computador  Esense                         | 59.900  | 382   | Brinda buena atención |\n| Audífonos Diadema Cascos Gamer  Pro  G4000 Con Microfono     | 54.900  | 6636  | Brinda buena atención |\n| Audifonos Diadema Gamer Logitech G Pro X Gaming Profesional  | 475.000 | 481   | Brinda buena atención |\n| Diadema Usb Para Pc Q2 Multimedia Sonido Hd                  | 58.900  | 1730  | Brinda buena atención |\n| Diadema Gamer Headset Onikuma K20 Micrófono Ps4 Xbox Luz Led | 89.900  | 1796  | Brinda buena atención |\n| Audifono 21953 Diadema Gamer Trust Ziva 3.5 Mm               | 59.900  | 243   | Brinda buena atención |\n| Diadema Usb Con Micrófono Y Control De Volumen X-kim Hf-400  | 46.500  | 1076  | Brinda buena atención |\n| Audífono Diadema Para Pc Gamer Ps3 Ps4 Con Vibración Luz Led | 99.000  | 1077  | Brinda buena atención |\n| Diadema Alámbrica Shake Gamer Retroiluminada 7.1 Entrada Usb | 139.900 | 198   | Brinda buena atención |\n| Audifonos Diadema Trust Reno Pc/portátil 3.5mm C/volumen Cha | 70.900  | 1244  | Brinda buena atención |\n| Diadema Gamer Ud116                                          | 29.000  | 451   | Brinda buena atención |\n| Diadema Gaming Hyperx Cloud Stinger Core 7.1                 | 225.000 | 130   | Brinda buena atención |\n| Diadema Auriculares Estereo  Para Video Juegos Onikuma K8    | 99.900  | 1796  | Brinda buena atención |\n| Diadema Gamer. Audifonos Balaca. Luces Led Auriculares. Mic  | 70.000  | 3385  | Brinda buena atención |\n| Audifono Diadema Cascos Gamer Pro Serie 5 Para Ps4-xbox One  | 44.500  | 10600 | Brinda buena atención |\n| Diadema Gamer Jbl Quantum 300 Microfono Desmontable Negro    | 240.000 | 2859  | Brinda buena atención |\n| Diadema Gamer Redragon H120 Ares 3.5 Mm Pc Factura Legal     | 60.000  | 6672  | Brinda buena atención |\n| Diadema Usb Multimedia Con Micrófono Ahp-4-0366              | 52.900  | 1730  | Brinda buena atención |\n| Diadema Con Microfono Economica Tipo Nuca O Cuello Pc Laptop | 15.911  | 23173 | Brinda buena atención |\n| Diadema Usb                                                  | 120.000 | 69    | Brinda buena atención |\n| Audífonos Diadema Gamer Kotion G4000 Con Microfono Usb Y Led | 54.900  | 9591  | Brinda buena atención |\n| Diadema Gamer Redragon H120 Ares 3.5 Mm Pc Garantia 1 Año    | 56.000  | 1009  | Brinda buena atención |\n| Audífonos Diadema Gamer Havit H2232d Iluminación Rgb Negro   | 82.900  | 441   | Brinda buena atención |\n| Diadema Gamer Logitech G635 Rgb 7.1 Pc Ps4 Xbox One Switch   | 399.900 | 71    | Brinda buena atención |\n| Audífonos Diadema Con Micrófono Estereo  Para Pc Económico   | 9.500   | 842   | Brinda buena atención |\n| Diadema Stereo H111 Logitech                                 | 49.000  | 1552  | Brinda buena atención |\n| Diadema Star Tec 3.5 Mm Audifono Microfono St-hp-81          | 36.000  | 3166  | Brinda buena atención |\n| Logitech G533, Diadema Gamer Inalámbrica / Sonido Dts 7.1    | 499.900 | 10458 | Brinda buena atención |\n| Diadema Usb X-kim Duo Auricular  Hf-868 Control Original     | 53.700  | 91    | Brinda buena atención |\n| Diadema Microsoft  Usb Lx-3000 Jug-00013 Factura Legal       | 132.900 | 6672  | Brinda buena atención |\n\n",
            "text/html": [
              "<table class=\"dataframe\">\n",
              "<caption>A data.frame: 150 × 4</caption>\n",
              "<thead>\n",
              "\t<tr><th scope=col>nombres</th><th scope=col>precios</th><th scope=col>ventas</th><th scope=col>atencion</th></tr>\n",
              "\t<tr><th scope=col>&lt;chr&gt;</th><th scope=col>&lt;chr&gt;</th><th scope=col>&lt;chr&gt;</th><th scope=col>&lt;chr&gt;</th></tr>\n",
              "</thead>\n",
              "<tbody>\n",
              "\t<tr><td>Audifonos Gamer Diadema G9000 Kotion Ps4 Xboxone + Obsequio </td><td>60.900 </td><td>2159 </td><td>Brinda buena atención</td></tr>\n",
              "\t<tr><td>Logitech G Pro X, Diadema Gamer 7.1 Profesional, Pc Ps4 Xbox</td><td>649.900</td><td>10458</td><td>Brinda buena atención</td></tr>\n",
              "\t<tr><td>Diadema Audifono Gamer Rgb  Light Usb Microfono             </td><td>49.900 </td><td>5657 </td><td>Brinda buena atención</td></tr>\n",
              "\t<tr><td>Diadema Arctis 5 Steelseries 7.1 Surround Rgb               </td><td>399.000</td><td>528  </td><td>Brinda buena atención</td></tr>\n",
              "\t<tr><td>Diadema Gamer Redragon H120 Ares 3.5 Mm                     </td><td>53.900 </td><td>411  </td><td>Brinda buena atención</td></tr>\n",
              "\t<tr><td>Diadema Usb Micrófono Control Volumen, X-kim Hf-868u - Negro</td><td>59.900 </td><td>130  </td><td>Brinda buena atención</td></tr>\n",
              "\t<tr><td>Diadema Auricular / Headset Gamer Scylla H901 - Redragon    </td><td>98.900 </td><td>888  </td><td>Brinda buena atención</td></tr>\n",
              "\t<tr><td>Diadema Gamer Hyperx Cloud Stinger Core 7.1 Inalambrica     </td><td>319.000</td><td>3166 </td><td>Brinda buena atención</td></tr>\n",
              "\t<tr><td>Diadema Usb Star Tec Hp-20u, Micrófono / Control De Volumen </td><td>62.900 </td><td>12334</td><td>Brinda buena atención</td></tr>\n",
              "\t<tr><td>Audifonos Diadema Balaca Gamer Ps4 Xbox One Pc Luces Led    </td><td>60.000 </td><td>776  </td><td>Brinda buena atención</td></tr>\n",
              "\t<tr><td>Diadema Gamer Auricular Con Microfono Ps4, Pc, Xbox, Swich  </td><td>70.000 </td><td>403  </td><td>Brinda buena atención</td></tr>\n",
              "\t<tr><td>Diadema Gamer Logitech Pro X Usb Dts Blue Voice Original    </td><td>479.000</td><td>3166 </td><td>Brinda buena atención</td></tr>\n",
              "\t<tr><td>Diadema Gamer Con Luz Rgb Micrófono Sonido Envolvente 3d Neg</td><td>70.000 </td><td>423  </td><td>Brinda buena atención</td></tr>\n",
              "\t<tr><td>Diadema Usb Con Microfono Xkim Hf868 Con Control De Volumen </td><td>57.800 </td><td>3166 </td><td>Brinda buena atención</td></tr>\n",
              "\t<tr><td>Diadema Redragon Lamia H320 Usb 7.1 Rgb Incluye Soporte     </td><td>184.000</td><td>3166 </td><td>Brinda buena atención</td></tr>\n",
              "\t<tr><td>Diadema Redragron H120 Ares Gamer 3.5mm Estereo             </td><td>57.000 </td><td>3166 </td><td>Brinda buena atención</td></tr>\n",
              "\t<tr><td>Diadema Usb Para Pc 2688 Con Micrófono                      </td><td>44.900 </td><td>1730 </td><td>Brinda buena atención</td></tr>\n",
              "\t<tr><td>Audífonos Diadema Gamer Kotion G9000 Con Microfono + Obsequi</td><td>79.900 </td><td>7422 </td><td>Brinda buena atención</td></tr>\n",
              "\t<tr><td>Diadema Gamer Hyperx Cloudx Stinger Core Xbox One           </td><td>144.700</td><td>851  </td><td>Brinda buena atención</td></tr>\n",
              "\t<tr><td>Diadema Gamer Redragon Themis H220 Para Pc/movil/consolas   </td><td>81.900 </td><td>411  </td><td>Brinda buena atención</td></tr>\n",
              "\t<tr><td>X Kim Hf-400 | Diadema Monoaural Con Microfono Usb          </td><td>64.900 </td><td>256  </td><td>Brinda buena atención</td></tr>\n",
              "\t<tr><td>Diadema Usb X-kim Duo Auricular  Hf-868 Control Original    </td><td>56.900 </td><td>1076 </td><td>Brinda buena atención</td></tr>\n",
              "\t<tr><td>Logitech G332, Diadema Gamer Estéreo Para Pc, Ps4, Xbox One </td><td>174.000</td><td>130  </td><td>Brinda buena atención</td></tr>\n",
              "\t<tr><td>Audífonos Diadema Gamer Con Microfono K4 2 Auxiliares       </td><td>39.900 </td><td>10600</td><td>Brinda buena atención</td></tr>\n",
              "\t<tr><td>Diadema Gaming Steelseries Arctis 3 Black                   </td><td>287.000</td><td>528  </td><td>Brinda buena atención</td></tr>\n",
              "\t<tr><td>Diadema Redragon Gamer H120 Ares Headset                    </td><td>53.900 </td><td>2859 </td><td>Brinda buena atención</td></tr>\n",
              "\t<tr><td>Diadema Redragon Gamer H320rgb Lamia Con Soporte            </td><td>164.800</td><td>2859 </td><td>Brinda buena atención</td></tr>\n",
              "\t<tr><td>Audifonos Gamer Diadema Microfono Usb Luces Led Gamming     </td><td>58.000 </td><td>4021 </td><td>Brinda buena atención</td></tr>\n",
              "\t<tr><td>Diadema Alámbrica Gamer Gemini, Usb Y 3.5 Con Luz Rgb       </td><td>128.900</td><td>198  </td><td>Brinda buena atención</td></tr>\n",
              "\t<tr><td>Diadema Audifono Gamer Kotion Each G4000 Pro Gaming Headset </td><td>54.850 </td><td>3924 </td><td>Brinda buena atención</td></tr>\n",
              "\t<tr><td>⋮</td><td>⋮</td><td>⋮</td><td>⋮</td></tr>\n",
              "\t<tr><td> Audifono Diadema Computador  Esense                        </td><td>59.900 </td><td>382  </td><td>Brinda buena atención</td></tr>\n",
              "\t<tr><td>Audífonos Diadema Cascos Gamer  Pro  G4000 Con Microfono    </td><td>54.900 </td><td>6636 </td><td>Brinda buena atención</td></tr>\n",
              "\t<tr><td>Audifonos Diadema Gamer Logitech G Pro X Gaming Profesional </td><td>475.000</td><td>481  </td><td>Brinda buena atención</td></tr>\n",
              "\t<tr><td>Diadema Usb Para Pc Q2 Multimedia Sonido Hd                 </td><td>58.900 </td><td>1730 </td><td>Brinda buena atención</td></tr>\n",
              "\t<tr><td>Diadema Gamer Headset Onikuma K20 Micrófono Ps4 Xbox Luz Led</td><td>89.900 </td><td>1796 </td><td>Brinda buena atención</td></tr>\n",
              "\t<tr><td>Audifono 21953 Diadema Gamer Trust Ziva 3.5 Mm              </td><td>59.900 </td><td>243  </td><td>Brinda buena atención</td></tr>\n",
              "\t<tr><td>Diadema Usb Con Micrófono Y Control De Volumen X-kim Hf-400 </td><td>46.500 </td><td>1076 </td><td>Brinda buena atención</td></tr>\n",
              "\t<tr><td>Audífono Diadema Para Pc Gamer Ps3 Ps4 Con Vibración Luz Led</td><td>99.000 </td><td>1077 </td><td>Brinda buena atención</td></tr>\n",
              "\t<tr><td>Diadema Alámbrica Shake Gamer Retroiluminada 7.1 Entrada Usb</td><td>139.900</td><td>198  </td><td>Brinda buena atención</td></tr>\n",
              "\t<tr><td>Audifonos Diadema Trust Reno Pc/portátil 3.5mm C/volumen Cha</td><td>70.900 </td><td>1244 </td><td>Brinda buena atención</td></tr>\n",
              "\t<tr><td>Diadema Gamer Ud116                                         </td><td>29.000 </td><td>451  </td><td>Brinda buena atención</td></tr>\n",
              "\t<tr><td>Diadema Gaming Hyperx Cloud Stinger Core 7.1                </td><td>225.000</td><td>130  </td><td>Brinda buena atención</td></tr>\n",
              "\t<tr><td>Diadema Auriculares Estereo  Para Video Juegos Onikuma K8   </td><td>99.900 </td><td>1796 </td><td>Brinda buena atención</td></tr>\n",
              "\t<tr><td>Diadema Gamer. Audifonos Balaca. Luces Led Auriculares. Mic </td><td>70.000 </td><td>3385 </td><td>Brinda buena atención</td></tr>\n",
              "\t<tr><td>Audifono Diadema Cascos Gamer Pro Serie 5 Para Ps4-xbox One </td><td>44.500 </td><td>10600</td><td>Brinda buena atención</td></tr>\n",
              "\t<tr><td>Diadema Gamer Jbl Quantum 300 Microfono Desmontable Negro   </td><td>240.000</td><td>2859 </td><td>Brinda buena atención</td></tr>\n",
              "\t<tr><td>Diadema Gamer Redragon H120 Ares 3.5 Mm Pc Factura Legal    </td><td>60.000 </td><td>6672 </td><td>Brinda buena atención</td></tr>\n",
              "\t<tr><td>Diadema Usb Multimedia Con Micrófono Ahp-4-0366             </td><td>52.900 </td><td>1730 </td><td>Brinda buena atención</td></tr>\n",
              "\t<tr><td>Diadema Con Microfono Economica Tipo Nuca O Cuello Pc Laptop</td><td>15.911 </td><td>23173</td><td>Brinda buena atención</td></tr>\n",
              "\t<tr><td>Diadema Usb                                                 </td><td>120.000</td><td>69   </td><td>Brinda buena atención</td></tr>\n",
              "\t<tr><td>Audífonos Diadema Gamer Kotion G4000 Con Microfono Usb Y Led</td><td>54.900 </td><td>9591 </td><td>Brinda buena atención</td></tr>\n",
              "\t<tr><td>Diadema Gamer Redragon H120 Ares 3.5 Mm Pc Garantia 1 Año   </td><td>56.000 </td><td>1009 </td><td>Brinda buena atención</td></tr>\n",
              "\t<tr><td>Audífonos Diadema Gamer Havit H2232d Iluminación Rgb Negro  </td><td>82.900 </td><td>441  </td><td>Brinda buena atención</td></tr>\n",
              "\t<tr><td>Diadema Gamer Logitech G635 Rgb 7.1 Pc Ps4 Xbox One Switch  </td><td>399.900</td><td>71   </td><td>Brinda buena atención</td></tr>\n",
              "\t<tr><td>Audífonos Diadema Con Micrófono Estereo  Para Pc Económico  </td><td>9.500  </td><td>842  </td><td>Brinda buena atención</td></tr>\n",
              "\t<tr><td>Diadema Stereo H111 Logitech                                </td><td>49.000 </td><td>1552 </td><td>Brinda buena atención</td></tr>\n",
              "\t<tr><td>Diadema Star Tec 3.5 Mm Audifono Microfono St-hp-81         </td><td>36.000 </td><td>3166 </td><td>Brinda buena atención</td></tr>\n",
              "\t<tr><td>Logitech G533, Diadema Gamer Inalámbrica / Sonido Dts 7.1   </td><td>499.900</td><td>10458</td><td>Brinda buena atención</td></tr>\n",
              "\t<tr><td>Diadema Usb X-kim Duo Auricular  Hf-868 Control Original    </td><td>53.700 </td><td>91   </td><td>Brinda buena atención</td></tr>\n",
              "\t<tr><td>Diadema Microsoft  Usb Lx-3000 Jug-00013 Factura Legal      </td><td>132.900</td><td>6672 </td><td>Brinda buena atención</td></tr>\n",
              "</tbody>\n",
              "</table>\n"
            ]
          },
          "metadata": {
            "tags": []
          }
        }
      ]
    }
  ]
}