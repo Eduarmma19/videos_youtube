{
  "nbformat": 4,
  "nbformat_minor": 0,
  "metadata": {
    "colab": {
      "name": "Extraccion de datos",
      "provenance": [],
      "collapsed_sections": [],
      "authorship_tag": "ABX9TyO1NXHN3OUYdrZj6LihnQPC",
      "include_colab_link": true
    },
    "kernelspec": {
      "name": "ir",
      "display_name": "R"
    }
  },
  "cells": [
    {
      "cell_type": "markdown",
      "metadata": {
        "id": "view-in-github",
        "colab_type": "text"
      },
      "source": [
        "<a href=\"https://colab.research.google.com/github/Eduarmma19/videos_youtube/blob/main/Extraccion_de_datos.ipynb\" target=\"_parent\"><img src=\"https://colab.research.google.com/assets/colab-badge.svg\" alt=\"Open In Colab\"/></a>"
      ]
    },
    {
      "cell_type": "code",
      "metadata": {
        "id": "tg76wGp6Rjz7"
      },
      "source": [
        "#Importación de librerías necesarias\r\n",
        "library(dplyr)\r\n",
        "library(rvest)"
      ],
      "execution_count": null,
      "outputs": []
    },
    {
      "cell_type": "code",
      "metadata": {
        "id": "-ptzuOv9UBSq"
      },
      "source": [
        "#Url de la pagina \r\n",
        "url <- \"https://listado.mercadolibre.com.co/diadema-gamer#D[A:diadema%20gamer,L:undefined]\"\r\n",
        "pagina <- read_html(url)\r\n"
      ],
      "execution_count": 2,
      "outputs": []
    },
    {
      "cell_type": "code",
      "metadata": {
        "id": "Q1EjghwBCpsd"
      },
      "source": [
        "#Extraer el nombre de cada producto\r\n",
        "nombres <- pagina %>% html_nodes(\".ui-search-item__title\")%>% html_text()"
      ],
      "execution_count": 3,
      "outputs": []
    },
    {
      "cell_type": "code",
      "metadata": {
        "id": "LYLjdBm_DRTT"
      },
      "source": [
        "#Extraer el precio de cada producto\r\n",
        "precios <- pagina %>% html_nodes(\".ui-search-price--size-medium .ui-search-price__second-line .price-tag-fraction\") %>% html_text"
      ],
      "execution_count": 4,
      "outputs": []
    },
    {
      "cell_type": "code",
      "metadata": {
        "id": "kJL04vIxDfcZ"
      },
      "source": [
        "#Crear data frame con el nombre y precios de los productos\r\n",
        "df <- data.frame(nombres,precios)"
      ],
      "execution_count": 5,
      "outputs": []
    },
    {
      "cell_type": "code",
      "metadata": {
        "id": "_W_LqCxyJcFD",
        "colab": {
          "base_uri": "https://localhost:8080/",
          "height": 283
        },
        "outputId": "aeb633d5-103f-408b-e50a-205677bb2737"
      },
      "source": [
        "#Mostrar los primeros registros del data frame (df)\r\n",
        "head(df)"
      ],
      "execution_count": 6,
      "outputs": [
        {
          "output_type": "display_data",
          "data": {
            "text/plain": [
              "  nombres                                                     precios\n",
              "1 Audifonos Diadema Gamer Mars Hq50 Pc Xbox Ps5 Fantech       49.900 \n",
              "2 Audifono Diadema Cascos  Gamer Pro2 Para Ps4 Y Xbox One     70.000 \n",
              "3 Audifonos Diadema Gamer Kotion G2000 Con Microfono          58.800 \n",
              "4 Audifono Diadema Cascos Gamer Pro2 Para Ps4 Y Xbox One      70.000 \n",
              "5 Audifonos Gamer En Diadema Kotion G2000 Microfono Usb Y Led 59.900 \n",
              "6 Diadema Headset Gamer Rgb Vsg Ps4 Mobile Xbox Pc Gemini Led 129.900"
            ],
            "text/latex": "A data.frame: 6 × 2\n\\begin{tabular}{r|ll}\n  & nombres & precios\\\\\n  & <chr> & <chr>\\\\\n\\hline\n\t1 & Audifonos Diadema Gamer Mars Hq50 Pc Xbox Ps5 Fantech       & 49.900 \\\\\n\t2 & Audifono Diadema Cascos  Gamer Pro2 Para Ps4 Y Xbox One     & 70.000 \\\\\n\t3 & Audifonos Diadema Gamer Kotion G2000 Con Microfono          & 58.800 \\\\\n\t4 & Audifono Diadema Cascos Gamer Pro2 Para Ps4 Y Xbox One      & 70.000 \\\\\n\t5 & Audifonos Gamer En Diadema Kotion G2000 Microfono Usb Y Led & 59.900 \\\\\n\t6 & Diadema Headset Gamer Rgb Vsg Ps4 Mobile Xbox Pc Gemini Led & 129.900\\\\\n\\end{tabular}\n",
            "text/markdown": "\nA data.frame: 6 × 2\n\n| <!--/--> | nombres &lt;chr&gt; | precios &lt;chr&gt; |\n|---|---|---|\n| 1 | Audifonos Diadema Gamer Mars Hq50 Pc Xbox Ps5 Fantech       | 49.900  |\n| 2 | Audifono Diadema Cascos  Gamer Pro2 Para Ps4 Y Xbox One     | 70.000  |\n| 3 | Audifonos Diadema Gamer Kotion G2000 Con Microfono          | 58.800  |\n| 4 | Audifono Diadema Cascos Gamer Pro2 Para Ps4 Y Xbox One      | 70.000  |\n| 5 | Audifonos Gamer En Diadema Kotion G2000 Microfono Usb Y Led | 59.900  |\n| 6 | Diadema Headset Gamer Rgb Vsg Ps4 Mobile Xbox Pc Gemini Led | 129.900 |\n\n",
            "text/html": [
              "<table class=\"dataframe\">\n",
              "<caption>A data.frame: 6 × 2</caption>\n",
              "<thead>\n",
              "\t<tr><th></th><th scope=col>nombres</th><th scope=col>precios</th></tr>\n",
              "\t<tr><th></th><th scope=col>&lt;chr&gt;</th><th scope=col>&lt;chr&gt;</th></tr>\n",
              "</thead>\n",
              "<tbody>\n",
              "\t<tr><th scope=row>1</th><td>Audifonos Diadema Gamer Mars Hq50 Pc Xbox Ps5 Fantech      </td><td>49.900 </td></tr>\n",
              "\t<tr><th scope=row>2</th><td>Audifono Diadema Cascos  Gamer Pro2 Para Ps4 Y Xbox One    </td><td>70.000 </td></tr>\n",
              "\t<tr><th scope=row>3</th><td>Audifonos Diadema Gamer Kotion G2000 Con Microfono         </td><td>58.800 </td></tr>\n",
              "\t<tr><th scope=row>4</th><td>Audifono Diadema Cascos Gamer Pro2 Para Ps4 Y Xbox One     </td><td>70.000 </td></tr>\n",
              "\t<tr><th scope=row>5</th><td>Audifonos Gamer En Diadema Kotion G2000 Microfono Usb Y Led</td><td>59.900 </td></tr>\n",
              "\t<tr><th scope=row>6</th><td>Diadema Headset Gamer Rgb Vsg Ps4 Mobile Xbox Pc Gemini Led</td><td>129.900</td></tr>\n",
              "</tbody>\n",
              "</table>\n"
            ]
          },
          "metadata": {
            "tags": []
          }
        }
      ]
    },
    {
      "cell_type": "code",
      "metadata": {
        "id": "RCgqsfY-vMiM",
        "colab": {
          "base_uri": "https://localhost:8080/",
          "height": 34
        },
        "outputId": "b0be6860-a400-42c0-9755-d89345a193a6"
      },
      "source": [
        "#Obtener los links que me llevan a cada producto de la primera pagina de busqueda (href)\r\n",
        "links_productos <- pagina %>% html_nodes(\".ui-search-result__image > a\") %>% html_attr(\"href\")\r\n",
        "length(links_productos)"
      ],
      "execution_count": 9,
      "outputs": [
        {
          "output_type": "display_data",
          "data": {
            "text/plain": [
              "[1] 55"
            ],
            "text/latex": "55",
            "text/markdown": "55",
            "text/html": [
              "55"
            ]
          },
          "metadata": {
            "tags": []
          }
        }
      ]
    },
    {
      "cell_type": "code",
      "metadata": {
        "id": "kUsHt4syvXaM"
      },
      "source": [
        "#Crear función que permite ingresar a cada producto y tomar las ventas durante los últimos 60 días y la atención brindada por el proveedor \r\n",
        "#Como salida tendremos un data frame con la variable ventas y atención. \r\n",
        "\r\n",
        "obtener_info <- function(link){\r\n",
        "  pagina_producto <- read_html(link)\r\n",
        "  ventas <- pagina_producto %>%html_nodes(\".ui-pdp-seller__sales-description\")  %>% html_text()\r\n",
        "  atencion <- pagina_producto %>% html_nodes(\".ui-pdp-seller__item-description:nth-child(2) .ui-pdp-seller__text-description\")%>% html_text()\r\n",
        "  df <- data.frame(ventas,atencion)\r\n",
        "  df   \r\n",
        "  }"
      ],
      "execution_count": 10,
      "outputs": []
    },
    {
      "cell_type": "code",
      "metadata": {
        "id": "HHWjD-WpEden"
      },
      "source": [
        "#Aplicación de la función creada a cada uno de los links que nos lleva a los productos\r\n",
        "df_total <- sapply(links_productos,obtener_info,USE.NAMES = FALSE)\r\n"
      ],
      "execution_count": 13,
      "outputs": []
    },
    {
      "cell_type": "code",
      "metadata": {
        "colab": {
          "base_uri": "https://localhost:8080/",
          "height": 150
        },
        "id": "OowwuHnoDtHM",
        "outputId": "2f877842-c2f8-4f8b-a2f5-3c89a84bc9cd"
      },
      "source": [
        "head(df_total)"
      ],
      "execution_count": 14,
      "outputs": [
        {
          "output_type": "display_data",
          "data": {
            "text/plain": [
              "         [,1]                  [,2]                  [,3]                 \n",
              "ventas   656                   10716                 10716                \n",
              "atencion Brinda buena atención Brinda buena atención Brinda buena atención\n",
              "         [,4]                  [,5]                  [,6]                 \n",
              "ventas   3957                  9699                  1812                 \n",
              "atencion Brinda buena atención Brinda buena atención Brinda buena atención\n",
              "         [,7]                  [,8]                  [,9]                 \n",
              "ventas   10503                 97                    129                  \n",
              "atencion Brinda buena atención Brinda buena atención Brinda buena atención\n",
              "         [,10]                 [,11] [,12]                \n",
              "ventas   9699                  ⋯     296                  \n",
              "atencion Brinda buena atención ⋯     Brinda buena atención\n",
              "         [,13]                 [,14]                 [,15]                \n",
              "ventas   5744                  2269                  2843                 \n",
              "atencion Brinda buena atención Brinda buena atención Brinda buena atención\n",
              "         [,16]                 [,17]                 [,18]                \n",
              "ventas   3161                  3957                  1812                 \n",
              "atencion Brinda buena atención Brinda buena atención Brinda buena atención\n",
              "         [,19]                 [,20]                 [,21]                \n",
              "ventas   2843                  861                   2280                 \n",
              "atencion Brinda buena atención Brinda buena atención Brinda buena atención"
            ],
            "text/latex": "A matrix: 2 × 55\n\\begin{tabular}{r|lllllllllllllllllllll}\n\tventas & 656 & 10716 & 10716 & 3957 & 9699 & 1812 & 10503 & 97 & 129 & 9699 & ⋯ & 296 & 5744 & 2269 & 2843 & 3161 & 3957 & 1812 & 2843 & 861 & 2280\\\\\n\tatencion & Brinda buena atención & Brinda buena atención & Brinda buena atención & Brinda buena atención & Brinda buena atención & Brinda buena atención & Brinda buena atención & Brinda buena atención & Brinda buena atención & Brinda buena atención & ⋯ & Brinda buena atención & Brinda buena atención & Brinda buena atención & Brinda buena atención & Brinda buena atención & Brinda buena atención & Brinda buena atención & Brinda buena atención & Brinda buena atención & Brinda buena atención\\\\\n\\end{tabular}\n",
            "text/markdown": "\nA matrix: 2 × 55\n\n| ventas | 656 | 10716 | 10716 | 3957 | 9699 | 1812 | 10503 | 97 | 129 | 9699 | ⋯ | 296 | 5744 | 2269 | 2843 | 3161 | 3957 | 1812 | 2843 | 861 | 2280 |\n| atencion | Brinda buena atención | Brinda buena atención | Brinda buena atención | Brinda buena atención | Brinda buena atención | Brinda buena atención | Brinda buena atención | Brinda buena atención | Brinda buena atención | Brinda buena atención | ⋯ | Brinda buena atención | Brinda buena atención | Brinda buena atención | Brinda buena atención | Brinda buena atención | Brinda buena atención | Brinda buena atención | Brinda buena atención | Brinda buena atención | Brinda buena atención |\n\n",
            "text/html": [
              "<table class=\"dataframe\">\n",
              "<caption>A matrix: 2 × 55</caption>\n",
              "<tbody>\n",
              "\t<tr><th scope=row>ventas</th><td>656</td><td>10716</td><td>10716</td><td>3957</td><td>9699</td><td>1812</td><td>10503</td><td>97</td><td>129</td><td>9699</td><td>⋯</td><td>296</td><td>5744</td><td>2269</td><td>2843</td><td>3161</td><td>3957</td><td>1812</td><td>2843</td><td>861</td><td>2280</td></tr>\n",
              "\t<tr><th scope=row>atencion</th><td>Brinda buena atención</td><td>Brinda buena atención</td><td>Brinda buena atención</td><td>Brinda buena atención</td><td>Brinda buena atención</td><td>Brinda buena atención</td><td>Brinda buena atención</td><td>Brinda buena atención</td><td>Brinda buena atención</td><td>Brinda buena atención</td><td>⋯</td><td>Brinda buena atención</td><td>Brinda buena atención</td><td>Brinda buena atención</td><td>Brinda buena atención</td><td>Brinda buena atención</td><td>Brinda buena atención</td><td>Brinda buena atención</td><td>Brinda buena atención</td><td>Brinda buena atención</td><td>Brinda buena atención</td></tr>\n",
              "</tbody>\n",
              "</table>\n"
            ]
          },
          "metadata": {
            "tags": []
          }
        }
      ]
    },
    {
      "cell_type": "code",
      "metadata": {
        "id": "iCByBBzLOEOs"
      },
      "source": [
        "#Transformaciones necesarias para el df_final \r\n",
        "df_total <- t(df_total)"
      ],
      "execution_count": 15,
      "outputs": []
    },
    {
      "cell_type": "code",
      "metadata": {
        "id": "6RS1-5AYFLHm"
      },
      "source": [
        "#Crear el data frame final (df_final )\r\n",
        "df_final <- cbind(df,df_total)"
      ],
      "execution_count": 17,
      "outputs": []
    },
    {
      "cell_type": "code",
      "metadata": {
        "colab": {
          "base_uri": "https://localhost:8080/",
          "height": 283
        },
        "id": "dt1jkOchP7u9",
        "outputId": "15141d0c-40e3-4fe7-ff03-02a70c1ebaaa"
      },
      "source": [
        "head(df_final)"
      ],
      "execution_count": 18,
      "outputs": [
        {
          "output_type": "display_data",
          "data": {
            "text/plain": [
              "  nombres                                                     precios ventas\n",
              "1 Audifonos Diadema Gamer Mars Hq50 Pc Xbox Ps5 Fantech       49.900  656   \n",
              "2 Audifono Diadema Cascos  Gamer Pro2 Para Ps4 Y Xbox One     70.000  10716 \n",
              "3 Audifonos Diadema Gamer Kotion G2000 Con Microfono          58.800  10716 \n",
              "4 Audifono Diadema Cascos Gamer Pro2 Para Ps4 Y Xbox One      70.000  3957  \n",
              "5 Audifonos Gamer En Diadema Kotion G2000 Microfono Usb Y Led 59.900  9699  \n",
              "6 Diadema Headset Gamer Rgb Vsg Ps4 Mobile Xbox Pc Gemini Led 129.900 1812  \n",
              "  atencion             \n",
              "1 Brinda buena atención\n",
              "2 Brinda buena atención\n",
              "3 Brinda buena atención\n",
              "4 Brinda buena atención\n",
              "5 Brinda buena atención\n",
              "6 Brinda buena atención"
            ],
            "text/latex": "A data.frame: 6 × 4\n\\begin{tabular}{r|llll}\n  & nombres & precios & ventas & atencion\\\\\n  & <chr> & <chr> & <list> & <list>\\\\\n\\hline\n\t1 & Audifonos Diadema Gamer Mars Hq50 Pc Xbox Ps5 Fantech       & 49.900  & 656 & Brinda buena atención\\\\\n\t2 & Audifono Diadema Cascos  Gamer Pro2 Para Ps4 Y Xbox One     & 70.000  & 10716 & Brinda buena atención\\\\\n\t3 & Audifonos Diadema Gamer Kotion G2000 Con Microfono          & 58.800  & 10716 & Brinda buena atención\\\\\n\t4 & Audifono Diadema Cascos Gamer Pro2 Para Ps4 Y Xbox One      & 70.000  & 3957 & Brinda buena atención\\\\\n\t5 & Audifonos Gamer En Diadema Kotion G2000 Microfono Usb Y Led & 59.900  & 9699 & Brinda buena atención\\\\\n\t6 & Diadema Headset Gamer Rgb Vsg Ps4 Mobile Xbox Pc Gemini Led & 129.900 & 1812 & Brinda buena atención\\\\\n\\end{tabular}\n",
            "text/markdown": "\nA data.frame: 6 × 4\n\n| <!--/--> | nombres &lt;chr&gt; | precios &lt;chr&gt; | ventas &lt;list&gt; | atencion &lt;list&gt; |\n|---|---|---|---|---|\n| 1 | Audifonos Diadema Gamer Mars Hq50 Pc Xbox Ps5 Fantech       | 49.900  | 656 | Brinda buena atención |\n| 2 | Audifono Diadema Cascos  Gamer Pro2 Para Ps4 Y Xbox One     | 70.000  | 10716 | Brinda buena atención |\n| 3 | Audifonos Diadema Gamer Kotion G2000 Con Microfono          | 58.800  | 10716 | Brinda buena atención |\n| 4 | Audifono Diadema Cascos Gamer Pro2 Para Ps4 Y Xbox One      | 70.000  | 3957 | Brinda buena atención |\n| 5 | Audifonos Gamer En Diadema Kotion G2000 Microfono Usb Y Led | 59.900  | 9699 | Brinda buena atención |\n| 6 | Diadema Headset Gamer Rgb Vsg Ps4 Mobile Xbox Pc Gemini Led | 129.900 | 1812 | Brinda buena atención |\n\n",
            "text/html": [
              "<table class=\"dataframe\">\n",
              "<caption>A data.frame: 6 × 4</caption>\n",
              "<thead>\n",
              "\t<tr><th></th><th scope=col>nombres</th><th scope=col>precios</th><th scope=col>ventas</th><th scope=col>atencion</th></tr>\n",
              "\t<tr><th></th><th scope=col>&lt;chr&gt;</th><th scope=col>&lt;chr&gt;</th><th scope=col>&lt;list&gt;</th><th scope=col>&lt;list&gt;</th></tr>\n",
              "</thead>\n",
              "<tbody>\n",
              "\t<tr><th scope=row>1</th><td>Audifonos Diadema Gamer Mars Hq50 Pc Xbox Ps5 Fantech      </td><td>49.900 </td><td>656</td><td>Brinda buena atención</td></tr>\n",
              "\t<tr><th scope=row>2</th><td>Audifono Diadema Cascos  Gamer Pro2 Para Ps4 Y Xbox One    </td><td>70.000 </td><td>10716</td><td>Brinda buena atención</td></tr>\n",
              "\t<tr><th scope=row>3</th><td>Audifonos Diadema Gamer Kotion G2000 Con Microfono         </td><td>58.800 </td><td>10716</td><td>Brinda buena atención</td></tr>\n",
              "\t<tr><th scope=row>4</th><td>Audifono Diadema Cascos Gamer Pro2 Para Ps4 Y Xbox One     </td><td>70.000 </td><td>3957</td><td>Brinda buena atención</td></tr>\n",
              "\t<tr><th scope=row>5</th><td>Audifonos Gamer En Diadema Kotion G2000 Microfono Usb Y Led</td><td>59.900 </td><td>9699</td><td>Brinda buena atención</td></tr>\n",
              "\t<tr><th scope=row>6</th><td>Diadema Headset Gamer Rgb Vsg Ps4 Mobile Xbox Pc Gemini Led</td><td>129.900</td><td>1812</td><td>Brinda buena atención</td></tr>\n",
              "</tbody>\n",
              "</table>\n"
            ]
          },
          "metadata": {
            "tags": []
          }
        }
      ]
    }
  ]
}