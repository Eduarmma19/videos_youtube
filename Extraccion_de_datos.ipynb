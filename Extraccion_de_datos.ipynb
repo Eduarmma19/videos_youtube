{
  "nbformat": 4,
  "nbformat_minor": 0,
  "metadata": {
    "colab": {
      "name": "Extraccion de datos",
      "provenance": [],
      "authorship_tag": "ABX9TyOf17vm4fDvqgpLWaYnUOui",
      "include_colab_link": true
    },
    "kernelspec": {
      "name": "ir",
      "display_name": "R"
    }
  },
  "cells": [
    {
      "cell_type": "markdown",
      "metadata": {
        "id": "view-in-github",
        "colab_type": "text"
      },
      "source": [
        "<a href=\"https://colab.research.google.com/github/Eduarmma19/videos_youtube/blob/main/Extraccion_de_datos.ipynb\" target=\"_parent\"><img src=\"https://colab.research.google.com/assets/colab-badge.svg\" alt=\"Open In Colab\"/></a>"
      ]
    },
    {
      "cell_type": "code",
      "metadata": {
        "id": "tg76wGp6Rjz7"
      },
      "source": [
        "#Importación de librerías necesarias\r\n",
        "library(dplyr)\r\n",
        "library(rvest)"
      ],
      "execution_count": null,
      "outputs": []
    },
    {
      "cell_type": "code",
      "metadata": {
        "id": "-ptzuOv9UBSq"
      },
      "source": [
        "#Url de la pagina \r\n",
        "url <- \"https://listado.mercadolibre.com.co/diadema-gamer#D[A:diadema%20gamer,L:undefined]\"\r\n",
        "pagina <- read_html(url)"
      ],
      "execution_count": null,
      "outputs": []
    },
    {
      "cell_type": "code",
      "metadata": {
        "id": "Q1EjghwBCpsd"
      },
      "source": [
        "#Extraer el nombre de cada producto\r\n",
        "nombres <- pagina %>% html_nodes(\".ui-search-item__title\")%>% \r\n",
        "html_text()"
      ],
      "execution_count": null,
      "outputs": []
    },
    {
      "cell_type": "code",
      "metadata": {
        "id": "LYLjdBm_DRTT"
      },
      "source": [
        "#Extraer el precio de cada producto\r\n",
        "precios <- pagina %>% html_nodes(\".ui-search-price--size-medium .ui-search-price__second-line .price-tag-fraction\") %>% html_text"
      ],
      "execution_count": null,
      "outputs": []
    },
    {
      "cell_type": "code",
      "metadata": {
        "id": "kJL04vIxDfcZ"
      },
      "source": [
        "#Crear data frame \r\n",
        "df <- data.frame(nombres,precios)"
      ],
      "execution_count": null,
      "outputs": []
    },
    {
      "cell_type": "code",
      "metadata": {
        "colab": {
          "base_uri": "https://localhost:8080/",
          "height": 274
        },
        "id": "_W_LqCxyJcFD",
        "outputId": "463fb14c-1a3b-4edb-b8fc-b98047697004"
      },
      "source": [
        "head(df)"
      ],
      "execution_count": null,
      "outputs": [
        {
          "output_type": "display_data",
          "data": {
            "text/plain": [
              "  nombres                                                     precios\n",
              "1 Audifono Diadema Cascos  Gamer Pro2 Para Ps4 Y Xbox One     70.000 \n",
              "2 Audifonos Diadema Gamer Kotion G2000 Con Microfono          58.800 \n",
              "3 Audifonos Gamer En Diadema Kotion G2000 Microfono Usb Y Led 59.900 \n",
              "4 Audifono Diadema Cascos Gamer Pro2 Para Ps4 Y Xbox One      71.000 \n",
              "5 Diadema Headset Gamer Rgb Vsg Ps4 Mobile Xbox Pc Gemini Led 129.900\n",
              "6 Logitech G332, Diadema Gamer Estéreo Para Pc, Ps4, Xbox One 179.900"
            ],
            "text/latex": "A data.frame: 6 × 2\n\\begin{tabular}{r|ll}\n  & nombres & precios\\\\\n  & <chr> & <chr>\\\\\n\\hline\n\t1 & Audifono Diadema Cascos  Gamer Pro2 Para Ps4 Y Xbox One     & 70.000 \\\\\n\t2 & Audifonos Diadema Gamer Kotion G2000 Con Microfono          & 58.800 \\\\\n\t3 & Audifonos Gamer En Diadema Kotion G2000 Microfono Usb Y Led & 59.900 \\\\\n\t4 & Audifono Diadema Cascos Gamer Pro2 Para Ps4 Y Xbox One      & 71.000 \\\\\n\t5 & Diadema Headset Gamer Rgb Vsg Ps4 Mobile Xbox Pc Gemini Led & 129.900\\\\\n\t6 & Logitech G332, Diadema Gamer Estéreo Para Pc, Ps4, Xbox One & 179.900\\\\\n\\end{tabular}\n",
            "text/markdown": "\nA data.frame: 6 × 2\n\n| <!--/--> | nombres &lt;chr&gt; | precios &lt;chr&gt; |\n|---|---|---|\n| 1 | Audifono Diadema Cascos  Gamer Pro2 Para Ps4 Y Xbox One     | 70.000  |\n| 2 | Audifonos Diadema Gamer Kotion G2000 Con Microfono          | 58.800  |\n| 3 | Audifonos Gamer En Diadema Kotion G2000 Microfono Usb Y Led | 59.900  |\n| 4 | Audifono Diadema Cascos Gamer Pro2 Para Ps4 Y Xbox One      | 71.000  |\n| 5 | Diadema Headset Gamer Rgb Vsg Ps4 Mobile Xbox Pc Gemini Led | 129.900 |\n| 6 | Logitech G332, Diadema Gamer Estéreo Para Pc, Ps4, Xbox One | 179.900 |\n\n",
            "text/html": [
              "<table class=\"dataframe\">\n",
              "<caption>A data.frame: 6 × 2</caption>\n",
              "<thead>\n",
              "\t<tr><th></th><th scope=col>nombres</th><th scope=col>precios</th></tr>\n",
              "\t<tr><th></th><th scope=col>&lt;chr&gt;</th><th scope=col>&lt;chr&gt;</th></tr>\n",
              "</thead>\n",
              "<tbody>\n",
              "\t<tr><th scope=row>1</th><td>Audifono Diadema Cascos  Gamer Pro2 Para Ps4 Y Xbox One    </td><td>70.000 </td></tr>\n",
              "\t<tr><th scope=row>2</th><td>Audifonos Diadema Gamer Kotion G2000 Con Microfono         </td><td>58.800 </td></tr>\n",
              "\t<tr><th scope=row>3</th><td>Audifonos Gamer En Diadema Kotion G2000 Microfono Usb Y Led</td><td>59.900 </td></tr>\n",
              "\t<tr><th scope=row>4</th><td>Audifono Diadema Cascos Gamer Pro2 Para Ps4 Y Xbox One     </td><td>71.000 </td></tr>\n",
              "\t<tr><th scope=row>5</th><td>Diadema Headset Gamer Rgb Vsg Ps4 Mobile Xbox Pc Gemini Led</td><td>129.900</td></tr>\n",
              "\t<tr><th scope=row>6</th><td>Logitech G332, Diadema Gamer Estéreo Para Pc, Ps4, Xbox One</td><td>179.900</td></tr>\n",
              "</tbody>\n",
              "</table>\n"
            ]
          },
          "metadata": {
            "tags": []
          }
        }
      ]
    }
  ]
}